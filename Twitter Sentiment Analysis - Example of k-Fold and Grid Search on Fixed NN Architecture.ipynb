{
 "cells": [
  {
   "cell_type": "markdown",
   "metadata": {},
   "source": [
    " ## Defining the problem and assembling a dataset"
   ]
  },
  {
   "cell_type": "markdown",
   "metadata": {},
   "source": [
    "- Kaggle Twitter Sentiment Analysis\n",
    "  - https://www.kaggle.com/datasets/jp797498e/twitter-entity-sentiment-analysis\n",
    "- Multi-Class Classification Problem"
   ]
  },
  {
   "cell_type": "markdown",
   "metadata": {},
   "source": [
    " ## Choosing a measure of success"
   ]
  },
  {
   "cell_type": "markdown",
   "metadata": {},
   "source": [
    "- Balanced Accuracy Score\n",
    "- Precision and Recall\n",
    "- AUC"
   ]
  },
  {
   "cell_type": "markdown",
   "metadata": {},
   "source": [
    "## Deciding on an evaluation protocol"
   ]
  },
  {
   "cell_type": "markdown",
   "metadata": {},
   "source": [
    "- Maintaining a hold-out validation set\n",
    "- Doing K-fold cross-validation"
   ]
  },
  {
   "cell_type": "markdown",
   "metadata": {},
   "source": [
    "## Preparing your data"
   ]
  },
  {
   "cell_type": "code",
   "execution_count": 1,
   "metadata": {
    "id": "i4S0tiStcOxV"
   },
   "outputs": [
    {
     "name": "stderr",
     "output_type": "stream",
     "text": [
      "2023-03-03 14:47:02.792493: I tensorflow/core/platform/cpu_feature_guard.cc:193] This TensorFlow binary is optimized with oneAPI Deep Neural Network Library (oneDNN) to use the following CPU instructions in performance-critical operations:  AVX2 FMA\n",
      "To enable them in other operations, rebuild TensorFlow with the appropriate compiler flags.\n",
      "2023-03-03 14:47:04.472957: W tensorflow/compiler/xla/stream_executor/platform/default/dso_loader.cc:64] Could not load dynamic library 'libcudart.so.11.0'; dlerror: libcudart.so.11.0: cannot open shared object file: No such file or directory\n",
      "2023-03-03 14:47:04.472982: I tensorflow/compiler/xla/stream_executor/cuda/cudart_stub.cc:29] Ignore above cudart dlerror if you do not have a GPU set up on your machine.\n",
      "2023-03-03 14:47:07.520373: W tensorflow/compiler/xla/stream_executor/platform/default/dso_loader.cc:64] Could not load dynamic library 'libnvinfer.so.7'; dlerror: libnvinfer.so.7: cannot open shared object file: No such file or directory\n",
      "2023-03-03 14:47:07.520471: W tensorflow/compiler/xla/stream_executor/platform/default/dso_loader.cc:64] Could not load dynamic library 'libnvinfer_plugin.so.7'; dlerror: libnvinfer_plugin.so.7: cannot open shared object file: No such file or directory\n",
      "2023-03-03 14:47:07.520478: W tensorflow/compiler/tf2tensorrt/utils/py_utils.cc:38] TF-TRT Warning: Cannot dlopen some TensorRT libraries. If you would like to use Nvidia GPU with TensorRT, please make sure the missing libraries mentioned above are installed properly.\n"
     ]
    }
   ],
   "source": [
    "import pandas as pd\n",
    "import numpy as np\n",
    "\n",
    "from sklearn.preprocessing import LabelEncoder\n",
    "from sklearn.model_selection import train_test_split\n",
    "from sklearn.model_selection import StratifiedKFold\n",
    "from sklearn.utils.class_weight import compute_class_weight\n",
    "from sklearn.metrics import accuracy_score, precision_score, recall_score, roc_auc_score\n",
    "from sklearn.metrics import balanced_accuracy_score, confusion_matrix, ConfusionMatrixDisplay\n",
    "from sklearn.feature_extraction.text import TfidfVectorizer\n",
    "\n",
    "import tensorflow as tf\n",
    "from keras.utils import np_utils\n",
    "from keras.models import Sequential, clone_model\n",
    "from keras.layers import Dense, Dropout\n",
    "from keras.callbacks import EarlyStopping\n",
    "from tensorflow.keras.optimizers import RMSprop\n",
    "\n",
    "import itertools\n",
    "import matplotlib.pyplot as plt\n",
    "\n",
    "SEED = 204\n",
    "\n",
    "tf.random.set_seed(SEED)\n",
    "np.random.seed(SEED)\n",
    "\n",
    "import warnings\n",
    "warnings.filterwarnings('ignore')"
   ]
  },
  {
   "cell_type": "code",
   "execution_count": 2,
   "metadata": {},
   "outputs": [
    {
     "data": {
      "text/html": [
       "<div>\n",
       "<style scoped>\n",
       "    .dataframe tbody tr th:only-of-type {\n",
       "        vertical-align: middle;\n",
       "    }\n",
       "\n",
       "    .dataframe tbody tr th {\n",
       "        vertical-align: top;\n",
       "    }\n",
       "\n",
       "    .dataframe thead th {\n",
       "        text-align: right;\n",
       "    }\n",
       "</style>\n",
       "<table border=\"1\" class=\"dataframe\">\n",
       "  <thead>\n",
       "    <tr style=\"text-align: right;\">\n",
       "      <th></th>\n",
       "      <th>sentiment</th>\n",
       "      <th>text</th>\n",
       "    </tr>\n",
       "  </thead>\n",
       "  <tbody>\n",
       "    <tr>\n",
       "      <th>0</th>\n",
       "      <td>Positive</td>\n",
       "      <td>im getting on borderlands and i will murder yo...</td>\n",
       "    </tr>\n",
       "    <tr>\n",
       "      <th>1</th>\n",
       "      <td>Positive</td>\n",
       "      <td>I am coming to the borders and I will kill you...</td>\n",
       "    </tr>\n",
       "    <tr>\n",
       "      <th>2</th>\n",
       "      <td>Positive</td>\n",
       "      <td>im getting on borderlands and i will kill you ...</td>\n",
       "    </tr>\n",
       "    <tr>\n",
       "      <th>3</th>\n",
       "      <td>Positive</td>\n",
       "      <td>im coming on borderlands and i will murder you...</td>\n",
       "    </tr>\n",
       "    <tr>\n",
       "      <th>4</th>\n",
       "      <td>Positive</td>\n",
       "      <td>im getting on borderlands 2 and i will murder ...</td>\n",
       "    </tr>\n",
       "  </tbody>\n",
       "</table>\n",
       "</div>"
      ],
      "text/plain": [
       "  sentiment                                               text\n",
       "0  Positive  im getting on borderlands and i will murder yo...\n",
       "1  Positive  I am coming to the borders and I will kill you...\n",
       "2  Positive  im getting on borderlands and i will kill you ...\n",
       "3  Positive  im coming on borderlands and i will murder you...\n",
       "4  Positive  im getting on borderlands 2 and i will murder ..."
      ]
     },
     "execution_count": 2,
     "metadata": {},
     "output_type": "execute_result"
    }
   ],
   "source": [
    "tweets = pd.read_csv('twitter.csv', sep=',', header=None)\n",
    "\n",
    "tweets = tweets[[2, 3]]\n",
    "tweets.columns = ['sentiment', 'text']\n",
    "\n",
    "tweets.dropna(inplace=True)\n",
    "\n",
    "tweets.head()"
   ]
  },
  {
   "cell_type": "code",
   "execution_count": 3,
   "metadata": {},
   "outputs": [],
   "source": [
    "TEST_SIZE = 0.1\n",
    "\n",
    "(tweets_train, tweets_test, \n",
    " sentiment_train, sentiment_test) = train_test_split(tweets['text'], tweets['sentiment'], \n",
    "                                                     test_size=TEST_SIZE, stratify=tweets['sentiment'],\n",
    "                                                     shuffle=True, random_state=SEED)"
   ]
  },
  {
   "cell_type": "code",
   "execution_count": 4,
   "metadata": {},
   "outputs": [],
   "source": [
    "MAX_FEATURES = 5000\n",
    "NGRAMS = 2\n",
    "\n",
    "tfidf = TfidfVectorizer(ngram_range=(1, NGRAMS), max_features=MAX_FEATURES)\n",
    "tfidf.fit(tweets_train)\n",
    "\n",
    "X_train, X_test = tfidf.transform(tweets_train).toarray(), tfidf.transform(tweets_test).toarray()"
   ]
  },
  {
   "cell_type": "code",
   "execution_count": 5,
   "metadata": {},
   "outputs": [],
   "source": [
    "label_encoder = LabelEncoder()\n",
    "label_encoder.fit(tweets['sentiment'])\n",
    "\n",
    "y_train = np_utils.to_categorical(label_encoder.transform(sentiment_train))\n",
    "y_test = np_utils.to_categorical(label_encoder.transform(sentiment_test))"
   ]
  },
  {
   "cell_type": "code",
   "execution_count": 6,
   "metadata": {},
   "outputs": [],
   "source": [
    "VALIDATION_SIZE = X_test.shape[0]\n",
    "\n",
    "X_train, X_val, y_train, y_val = train_test_split(X_train, y_train, \n",
    "                                                 test_size=VALIDATION_SIZE, stratify=y_train,\n",
    "                                                 shuffle=True, random_state=SEED)"
   ]
  },
  {
   "cell_type": "markdown",
   "metadata": {},
   "source": [
    "##  Developing a model that does better than a baseline"
   ]
  },
  {
   "cell_type": "code",
   "execution_count": 7,
   "metadata": {},
   "outputs": [
    {
     "data": {
      "text/html": [
       "<div>\n",
       "<style scoped>\n",
       "    .dataframe tbody tr th:only-of-type {\n",
       "        vertical-align: middle;\n",
       "    }\n",
       "\n",
       "    .dataframe tbody tr th {\n",
       "        vertical-align: top;\n",
       "    }\n",
       "\n",
       "    .dataframe thead th {\n",
       "        text-align: right;\n",
       "    }\n",
       "</style>\n",
       "<table border=\"1\" class=\"dataframe\">\n",
       "  <thead>\n",
       "    <tr style=\"text-align: right;\">\n",
       "      <th></th>\n",
       "      <th>sentiment</th>\n",
       "      <th>text</th>\n",
       "    </tr>\n",
       "  </thead>\n",
       "  <tbody>\n",
       "    <tr>\n",
       "      <th>0</th>\n",
       "      <td>Irrelevant</td>\n",
       "      <td>12875</td>\n",
       "    </tr>\n",
       "    <tr>\n",
       "      <th>1</th>\n",
       "      <td>Negative</td>\n",
       "      <td>22358</td>\n",
       "    </tr>\n",
       "    <tr>\n",
       "      <th>2</th>\n",
       "      <td>Neutral</td>\n",
       "      <td>18108</td>\n",
       "    </tr>\n",
       "    <tr>\n",
       "      <th>3</th>\n",
       "      <td>Positive</td>\n",
       "      <td>20655</td>\n",
       "    </tr>\n",
       "  </tbody>\n",
       "</table>\n",
       "</div>"
      ],
      "text/plain": [
       "    sentiment   text\n",
       "0  Irrelevant  12875\n",
       "1    Negative  22358\n",
       "2     Neutral  18108\n",
       "3    Positive  20655"
      ]
     },
     "execution_count": 7,
     "metadata": {},
     "output_type": "execute_result"
    }
   ],
   "source": [
    "counts = tweets.groupby(['sentiment']).count()\n",
    "counts.reset_index(inplace=True)\n",
    "\n",
    "counts"
   ]
  },
  {
   "cell_type": "code",
   "execution_count": 8,
   "metadata": {},
   "outputs": [
    {
     "data": {
      "text/plain": [
       "0.3021514676468998"
      ]
     },
     "execution_count": 8,
     "metadata": {},
     "output_type": "execute_result"
    }
   ],
   "source": [
    "baseline = counts[counts['sentiment']=='Negative']['text'].values[0] / counts['text'].sum()\n",
    "\n",
    "baseline"
   ]
  },
  {
   "cell_type": "code",
   "execution_count": 9,
   "metadata": {},
   "outputs": [
    {
     "data": {
      "text/plain": [
       "{0: 1.4367961165048544,\n",
       " 1: 0.8274069104327407,\n",
       " 2: 1.0216070688941046,\n",
       " 3: 0.8956063907044299}"
      ]
     },
     "execution_count": 9,
     "metadata": {},
     "output_type": "execute_result"
    }
   ],
   "source": [
    "labels = np.argmax(y_train, axis=1)\n",
    "weights = compute_class_weight('balanced', classes=np.unique(labels), y=labels)\n",
    "CLASS_WEIGHT = dict(enumerate(weights))\n",
    "\n",
    "CLASS_WEIGHT"
   ]
  },
  {
   "cell_type": "code",
   "execution_count": 10,
   "metadata": {},
   "outputs": [
    {
     "name": "stderr",
     "output_type": "stream",
     "text": [
      "2023-03-03 14:47:16.242972: W tensorflow/compiler/xla/stream_executor/platform/default/dso_loader.cc:64] Could not load dynamic library 'libcuda.so.1'; dlerror: libcuda.so.1: cannot open shared object file: No such file or directory\n",
      "2023-03-03 14:47:16.243008: W tensorflow/compiler/xla/stream_executor/cuda/cuda_driver.cc:265] failed call to cuInit: UNKNOWN ERROR (303)\n",
      "2023-03-03 14:47:16.243033: I tensorflow/compiler/xla/stream_executor/cuda/cuda_diagnostics.cc:156] kernel driver does not appear to be running on this host (snottingham): /proc/driver/nvidia/version does not exist\n",
      "2023-03-03 14:47:16.243310: I tensorflow/core/platform/cpu_feature_guard.cc:193] This TensorFlow binary is optimized with oneAPI Deep Neural Network Library (oneDNN) to use the following CPU instructions in performance-critical operations:  AVX2 FMA\n",
      "To enable them in other operations, rebuild TensorFlow with the appropriate compiler flags.\n"
     ]
    }
   ],
   "source": [
    "INPUT_DIMENSION = X_train.shape[1]\n",
    "OUTPUT_CLASSES = y_train.shape[1]\n",
    "\n",
    "OPTIMIZER = 'rmsprop'\n",
    "LOSS_FUNC = 'categorical_crossentropy'\n",
    "METRICS = ['categorical_accuracy', \n",
    "           tf.keras.metrics.Precision(name='precision'), \n",
    "           tf.keras.metrics.Recall(name='recall'),\n",
    "           tf.keras.metrics.AUC(name='auc', multi_label=True)]\n",
    "\n",
    "MONITOR = 'val_loss'\n",
    "PATIENCE = 5\n",
    "\n",
    "EARLY_STOP = EarlyStopping(monitor=MONITOR, restore_best_weights=True, patience=PATIENCE, verbose=0)"
   ]
  },
  {
   "cell_type": "code",
   "execution_count": 11,
   "metadata": {},
   "outputs": [
    {
     "name": "stdout",
     "output_type": "stream",
     "text": [
      "Model: \"sequential\"\n",
      "_________________________________________________________________\n",
      " Layer (type)                Output Shape              Param #   \n",
      "=================================================================\n",
      " dense (Dense)               (None, 4)                 20004     \n",
      "                                                                 \n",
      "=================================================================\n",
      "Total params: 20,004\n",
      "Trainable params: 20,004\n",
      "Non-trainable params: 0\n",
      "_________________________________________________________________\n"
     ]
    }
   ],
   "source": [
    "slp = Sequential(\n",
    "    [\n",
    "        Dense(OUTPUT_CLASSES, activation='softmax', input_shape=(INPUT_DIMENSION,))\n",
    "    ]\n",
    ")\n",
    "\n",
    "slp_initial_weights = slp.get_weights()\n",
    "\n",
    "slp.summary()"
   ]
  },
  {
   "cell_type": "code",
   "execution_count": 12,
   "metadata": {},
   "outputs": [],
   "source": [
    "learning_rate = 0.01\n",
    "\n",
    "slp.compile(optimizer=RMSprop(learning_rate=learning_rate), \n",
    "            loss=LOSS_FUNC, metrics=METRICS)"
   ]
  },
  {
   "cell_type": "code",
   "execution_count": 13,
   "metadata": {},
   "outputs": [
    {
     "name": "stderr",
     "output_type": "stream",
     "text": [
      "2023-03-03 14:47:16.770774: W tensorflow/tsl/framework/cpu_allocator_impl.cc:82] Allocation of 1183920000 exceeds 10% of free system memory.\n"
     ]
    }
   ],
   "source": [
    "EPOCHS = 100\n",
    "batch_size=512\n",
    "\n",
    "slp.set_weights(slp_initial_weights)\n",
    "\n",
    "history_slp = slp.fit(X_train, y_train,\n",
    "                      class_weight=CLASS_WEIGHT,\n",
    "                      batch_size=batch_size, epochs=EPOCHS, \n",
    "                      validation_data=(X_val, y_val),\n",
    "                      callbacks=[EARLY_STOP],\n",
    "                      verbose=0)"
   ]
  },
  {
   "cell_type": "code",
   "execution_count": 48,
   "metadata": {},
   "outputs": [
    {
     "name": "stdout",
     "output_type": "stream",
     "text": [
      "Accuracy (Validation): 0.71 (baseline=0.30)\n",
      "Precision (Validation): 0.77\n",
      "Recall (Validation): 0.64\n",
      "AUC (Validation): 0.90\n"
     ]
    }
   ],
   "source": [
    "scores = slp.evaluate(X_val, y_val, verbose=0)[1:]\n",
    "\n",
    "print('Accuracy (Validation): {:.2f} (baseline={:.2f})'.format(scores[0], baseline))\n",
    "print('Precision (Validation): {:.2f}'.format(scores[1]))\n",
    "print('Recall (Validation): {:.2f}'.format(scores[2]))\n",
    "print('AUC (Validation): {:.2f}'.format(scores[3]))"
   ]
  },
  {
   "cell_type": "code",
   "execution_count": 15,
   "metadata": {},
   "outputs": [],
   "source": [
    "def plot_training_history(history, monitor='loss') :\n",
    "    loss, val_loss = history.history[monitor], history.history['val_' + monitor]\n",
    "\n",
    "    epochs = range(1, len(loss)+1)\n",
    "\n",
    "    plt.plot(epochs, loss, 'b.', label=monitor)\n",
    "    plt.plot(epochs, val_loss, 'r.', label='Validation ' + monitor)\n",
    "    plt.xlim([0, len(loss)])\n",
    "    plt.title('Training and Validation ' + monitor + 's')\n",
    "    plt.xlabel('Epochs')\n",
    "    plt.ylabel(monitor)\n",
    "    plt.legend()\n",
    "    plt.grid()\n",
    "    _ = plt.show()"
   ]
  },
  {
   "cell_type": "code",
   "execution_count": 16,
   "metadata": {},
   "outputs": [
    {
     "data": {
      "image/png": "[encoded data removed]",
      "text/plain": [
       "<Figure size 640x480 with 1 Axes>"
      ]
     },
     "metadata": {},
     "output_type": "display_data"
    }
   ],
   "source": [
    "plot_training_history(history_slp, monitor='loss')"
   ]
  },
  {
   "cell_type": "markdown",
   "metadata": {},
   "source": [
    " ## Scaling up: developing a model that overfits"
   ]
  },
  {
   "cell_type": "code",
   "execution_count": 17,
   "metadata": {},
   "outputs": [
    {
     "name": "stdout",
     "output_type": "stream",
     "text": [
      "Model: \"sequential_1\"\n",
      "_________________________________________________________________\n",
      " Layer (type)                Output Shape              Param #   \n",
      "=================================================================\n",
      " dense_1 (Dense)             (None, 64)                320064    \n",
      "                                                                 \n",
      " dense_2 (Dense)             (None, 4)                 260       \n",
      "                                                                 \n",
      "=================================================================\n",
      "Total params: 320,324\n",
      "Trainable params: 320,324\n",
      "Non-trainable params: 0\n",
      "_________________________________________________________________\n"
     ]
    }
   ],
   "source": [
    "mlp = Sequential(\n",
    "    [\n",
    "        Dense(64, activation='relu', input_shape=(INPUT_DIMENSION,)),\n",
    "        Dense(OUTPUT_CLASSES, activation='softmax')\n",
    "    ]\n",
    ")\n",
    "\n",
    "mlp_initial_weights = mlp.get_weights()\n",
    "\n",
    "mlp.summary()"
   ]
  },
  {
   "cell_type": "code",
   "execution_count": 18,
   "metadata": {},
   "outputs": [],
   "source": [
    "learning_rate = 0.0025\n",
    "\n",
    "mlp.compile(optimizer=RMSprop(learning_rate=learning_rate), \n",
    "            loss=LOSS_FUNC, metrics=METRICS)\n",
    "\n",
    "mlp.set_weights(mlp_initial_weights)"
   ]
  },
  {
   "cell_type": "code",
   "execution_count": 19,
   "metadata": {},
   "outputs": [
    {
     "name": "stderr",
     "output_type": "stream",
     "text": [
      "2023-03-03 14:48:00.718332: W tensorflow/tsl/framework/cpu_allocator_impl.cc:82] Allocation of 1183920000 exceeds 10% of free system memory.\n"
     ]
    }
   ],
   "source": [
    "EPOCHS = 100\n",
    "batch_size=512\n",
    "\n",
    "mlp.set_weights(mlp_initial_weights)\n",
    "\n",
    "history_mlp = mlp.fit(X_train, y_train,\n",
    "                      class_weight=CLASS_WEIGHT,\n",
    "                      batch_size=batch_size, epochs=EPOCHS, \n",
    "                      validation_data=(X_val, y_val),\n",
    "                      callbacks=[],\n",
    "                      verbose=0)"
   ]
  },
  {
   "cell_type": "code",
   "execution_count": 49,
   "metadata": {},
   "outputs": [
    {
     "name": "stdout",
     "output_type": "stream",
     "text": [
      "Accuracy (Validation): 0.84 (baseline=0.30)\n",
      "Precision (Validation): 0.86\n",
      "Recall (Validation): 0.83\n",
      "AUC (Validation): 0.96\n"
     ]
    }
   ],
   "source": [
    "scores = mlp.evaluate(X_val, y_val, verbose=0)[1:]\n",
    "\n",
    "print('Accuracy (Validation): {:.2f} (baseline={:.2f})'.format(scores[0], baseline))\n",
    "print('Precision (Validation): {:.2f}'.format(scores[1]))\n",
    "print('Recall (Validation): {:.2f}'.format(scores[2]))\n",
    "print('AUC (Validation): {:.2f}'.format(scores[3]))"
   ]
  },
  {
   "cell_type": "code",
   "execution_count": 21,
   "metadata": {},
   "outputs": [
    {
     "data": {
      "image/png": "[encoded data removed]",
      "text/plain": [
       "<Figure size 640x480 with 1 Axes>"
      ]
     },
     "metadata": {},
     "output_type": "display_data"
    }
   ],
   "source": [
    "plot_training_history(history_mlp, monitor='loss')"
   ]
  },
  {
   "cell_type": "markdown",
   "metadata": {},
   "source": [
    " ## Regularizing your model and tuning your hyperparameters"
   ]
  },
  {
   "cell_type": "code",
   "execution_count": 32,
   "metadata": {},
   "outputs": [],
   "source": [
    "def cross_validation(X, y,\n",
    "                     class_weight,\n",
    "                     ref_arch,\n",
    "                     dropout_layers,\n",
    "                     kfolds, params, epochs,\n",
    "                     callbacks, seed=0) :\n",
    "    evaluations = []\n",
    "    for train, validate in kfolds.split(X, y.argmax(axis=1)) :\n",
    "        model = clone_model(ref_arch)\n",
    "        \n",
    "        for j in dropout_layers :\n",
    "            model.layers[j].rate = params['dropout']\n",
    "        \n",
    "        model.compile(optimizer=RMSprop(learning_rate=params['learning_rate']), \n",
    "                      loss=LOSS_FUNC, metrics=METRICS)\n",
    "        \n",
    "        history = model.fit(X[train,:], y[train,:],\n",
    "                            class_weight=class_weight,\n",
    "                            batch_size=params['batch_size'], epochs=epochs, \n",
    "                            validation_data=(X[validate,:], y[validate,:]),\n",
    "                            callbacks=callbacks,\n",
    "                            verbose=0)\n",
    "        \n",
    "        evaluation = model.evaluate(X_val, y_val, verbose=0)[1:]\n",
    "        evaluations.append( evaluation )\n",
    "        \n",
    "    return np.mean(evaluations, axis=0)"
   ]
  },
  {
   "cell_type": "code",
   "execution_count": 33,
   "metadata": {},
   "outputs": [],
   "source": [
    "def grid_search_cv(X, y,\n",
    "                   class_weight,\n",
    "                   model,\n",
    "                   dropout_layers,\n",
    "                   search_space, cv,\n",
    "                   epochs, callbacks=[], seed=0) :\n",
    "    \n",
    "    keys, values = zip(*search_space.items())\n",
    "    \n",
    "    kfolds = StratifiedKFold(n_splits=cv, shuffle=True, random_state=seed)\n",
    "    \n",
    "    stats = {}\n",
    "    for params in [dict(zip(keys, v)) for v in itertools.product(*values)] :\n",
    "        \n",
    "        scores = cross_validation(X, y, class_weight,\n",
    "                                  model, initial_weights, \n",
    "                                  dropout_layers,\n",
    "                                  kfolds, params, epochs,\n",
    "                                  callbacks, seed)\n",
    "        \n",
    "        stats[str(params)] = scores\n",
    "    \n",
    "    return stats"
   ]
  },
  {
   "cell_type": "code",
   "execution_count": 34,
   "metadata": {},
   "outputs": [
    {
     "name": "stdout",
     "output_type": "stream",
     "text": [
      "Model: \"sequential_4\"\n",
      "_________________________________________________________________\n",
      " Layer (type)                Output Shape              Param #   \n",
      "=================================================================\n",
      " dense_7 (Dense)             (None, 64)                320064    \n",
      "                                                                 \n",
      " dropout_2 (Dropout)         (None, 64)                0         \n",
      "                                                                 \n",
      " dense_8 (Dense)             (None, 4)                 260       \n",
      "                                                                 \n",
      "=================================================================\n",
      "Total params: 320,324\n",
      "Trainable params: 320,324\n",
      "Non-trainable params: 0\n",
      "_________________________________________________________________\n"
     ]
    }
   ],
   "source": [
    "# over-sized model - NN architecture that can overfit the data\n",
    "ref_arch = Sequential(\n",
    "    [\n",
    "        Dense(64, activation='relu', input_shape=(INPUT_DIMENSION,)),\n",
    "        Dropout(rate=0.5), # dropout is what we add in to regularise our shrink our over-sized model\n",
    "        Dense(OUTPUT_CLASSES, activation='softmax')\n",
    "    ]\n",
    ")\n",
    "\n",
    "ref_arch.summary()"
   ]
  },
  {
   "cell_type": "code",
   "execution_count": 42,
   "metadata": {},
   "outputs": [],
   "source": [
    "# our search space\n",
    "params = {\n",
    "    'dropout': [0.25, 0.5],\n",
    "    'learning_rate': [0.0025, 0.5],\n",
    "    'batch_size': [256, 512]\n",
    "}\n",
    "\n",
    "# which layers are the dropout layer, not how many layers\n",
    "dropout_layers = [1]\n",
    "\n",
    "EPOCHS = 500\n",
    "KFOLDS = 5"
   ]
  },
  {
   "cell_type": "code",
   "execution_count": 36,
   "metadata": {},
   "outputs": [],
   "source": [
    "stats = grid_search_cv(X_train, y_train,\n",
    "                       class_weight=CLASS_WEIGHT,\n",
    "                       model=ref_arch,\n",
    "                       dropout_layers=dropout_layers,\n",
    "                       search_space=params, cv=KFOLDS,\n",
    "                       epochs=EPOCHS, callbacks=[EARLY_STOP], seed=SEED)"
   ]
  },
  {
   "cell_type": "code",
   "execution_count": 37,
   "metadata": {},
   "outputs": [
    {
     "data": {
      "text/plain": [
       "{\"{'dropout': 0.25, 'learning_rate': 0.0025, 'batch_size': 256}\": array([0.82281082, 0.85931571, 0.79700001, 0.95405879]),\n",
       " \"{'dropout': 0.25, 'learning_rate': 0.0025, 'batch_size': 512}\": array([0.82751352, 0.85971271, 0.80716217, 0.95570025]),\n",
       " \"{'dropout': 0.25, 'learning_rate': 0.5, 'batch_size': 256}\": array([0.4327027 , 0.91596608, 0.18681081, 0.6669637 ]),\n",
       " \"{'dropout': 0.25, 'learning_rate': 0.5, 'batch_size': 512}\": array([0.46283784, 0.91652517, 0.27521622, 0.73366117]),\n",
       " \"{'dropout': 0.5, 'learning_rate': 0.0025, 'batch_size': 256}\": array([0.81324323, 0.86636997, 0.76943245, 0.94935095]),\n",
       " \"{'dropout': 0.5, 'learning_rate': 0.0025, 'batch_size': 512}\": array([0.8185946 , 0.86158662, 0.78686486, 0.95231467]),\n",
       " \"{'dropout': 0.5, 'learning_rate': 0.5, 'batch_size': 256}\": array([0.36927027, 0.93105403, 0.11405405, 0.60565635]),\n",
       " \"{'dropout': 0.5, 'learning_rate': 0.5, 'batch_size': 512}\": array([0.40481082, 0.91665508, 0.15602703, 0.64540557])}"
      ]
     },
     "execution_count": 37,
     "metadata": {},
     "output_type": "execute_result"
    }
   ],
   "source": [
    "stats"
   ]
  },
  {
   "cell_type": "code",
   "execution_count": 38,
   "metadata": {},
   "outputs": [],
   "source": [
    "# let's pick the setting that is giving us the AUC which is the 2nd one.\n",
    "# dropout = 0.25\n",
    "# learning_rate = 0.0025\n",
    "# batch_size = 512"
   ]
  },
  {
   "cell_type": "code",
   "execution_count": 41,
   "metadata": {},
   "outputs": [
    {
     "name": "stderr",
     "output_type": "stream",
     "text": [
      "2023-03-03 16:18:19.963843: W tensorflow/tsl/framework/cpu_allocator_impl.cc:82] Allocation of 1183920000 exceeds 10% of free system memory.\n"
     ]
    }
   ],
   "source": [
    "# optimal parameters are taken out from our k-fold grid-search stats\n",
    "opt_params = {\n",
    "    'dropout': 0.25,\n",
    "    'learning_rate': 0.0025,\n",
    "    'batch_size': 512\n",
    "}\n",
    "\n",
    "opt_mdl = clone_model(ref_arch)\n",
    "\n",
    "for j in dropout_layers :\n",
    "    opt_mdl.layers[j] = opt_params['dropout']\n",
    "    \n",
    "opt_mdl.compile(optimizer=RMSprop(learning_rate=opt_params['learning_rate']), \n",
    "                loss=LOSS_FUNC, metrics=METRICS)\n",
    "        \n",
    "history_opt = opt_mdl.fit(X_train, y_train,\n",
    "                          class_weight=CLASS_WEIGHT,\n",
    "                          batch_size=opt_params['batch_size'], epochs=EPOCHS, \n",
    "                          validation_data=(X_val, y_val),\n",
    "                          callbacks=[EARLY_STOP],\n",
    "                          verbose=0)"
   ]
  },
  {
   "cell_type": "code",
   "execution_count": 50,
   "metadata": {},
   "outputs": [
    {
     "name": "stdout",
     "output_type": "stream",
     "text": [
      "Accuracy (Validation): 0.84 (baseline=0.30)\n",
      "Precision (Validation): 0.88\n",
      "Recall (Validation): 0.81\n",
      "AUC (Validation): 0.96\n"
     ]
    }
   ],
   "source": [
    "scores = opt_mdl.evaluate(X_val, y_val, verbose=0)[1:]\n",
    "\n",
    "print('Accuracy (Validation): {:.2f} (baseline={:.2f})'.format(scores[0], baseline))\n",
    "print('Precision (Validation): {:.2f}'.format(scores[1]))\n",
    "print('Recall (Validation): {:.2f}'.format(scores[2]))\n",
    "print('AUC (Validation): {:.2f}'.format(scores[3]))"
   ]
  },
  {
   "cell_type": "code",
   "execution_count": 45,
   "metadata": {},
   "outputs": [
    {
     "data": {
      "image/png": "[encoded data removed]",
      "text/plain": [
       "<Figure size 640x480 with 1 Axes>"
      ]
     },
     "metadata": {},
     "output_type": "display_data"
    }
   ],
   "source": [
    "plot_training_history(history_opt, monitor='loss')"
   ]
  },
  {
   "cell_type": "code",
   "execution_count": 51,
   "metadata": {},
   "outputs": [
    {
     "name": "stdout",
     "output_type": "stream",
     "text": [
      "Accuracy (Test): 0.84 (baseline=0.30)\n",
      "Precision (Test): 0.88\n",
      "Recall (Test): 0.80\n",
      "AUC (Test): 0.96\n"
     ]
    }
   ],
   "source": [
    "scores = opt_mdl.evaluate(X_test, y_test, verbose=0)[1:]\n",
    "\n",
    "print('Accuracy (Test): {:.2f} (baseline={:.2f})'.format(scores[0], baseline))\n",
    "print('Precision (Test): {:.2f}'.format(scores[1]))\n",
    "print('Recall (Test): {:.2f}'.format(scores[2]))\n",
    "print('AUC (Test): {:.2f}'.format(scores[3]))"
   ]
  },
  {
   "cell_type": "code",
   "execution_count": 47,
   "metadata": {},
   "outputs": [
    {
     "data": {
      "text/plain": [
       "<keras.layers.regularization.dropout.Dropout at 0x7fd510511d60>"
      ]
     },
     "execution_count": 47,
     "metadata": {},
     "output_type": "execute_result"
    }
   ],
   "source": [
    "opt_mdl.layers[1]"
   ]
  },
  {
   "cell_type": "code",
   "execution_count": null,
   "metadata": {},
   "outputs": [],
   "source": []
  }
 ],
 "metadata": {
  "accelerator": "GPU",
  "colab": {
   "provenance": []
  },
  "gpuClass": "standard",
  "kernelspec": {
   "display_name": "Python 3 (ipykernel)",
   "language": "python",
   "name": "python3"
  },
  "language_info": {
   "codemirror_mode": {
    "name": "ipython",
    "version": 3
   },
   "file_extension": ".py",
   "mimetype": "text/x-python",
   "name": "python",
   "nbconvert_exporter": "python",
   "pygments_lexer": "ipython3",
   "version": "3.9.13"
  }
 },
 "nbformat": 4,
 "nbformat_minor": 1
}
