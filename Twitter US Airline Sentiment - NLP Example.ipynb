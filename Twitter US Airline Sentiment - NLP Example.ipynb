{
 "cells": [
  {
   "cell_type": "markdown",
   "metadata": {},
   "source": [
    " ## Defining the problem and assembling a dataset"
   ]
  },
  {
   "cell_type": "markdown",
   "metadata": {},
   "source": [
    "- Kaggle Twitter US Airline Sentiment\n",
    "  - https://www.kaggle.com/datasets/crowdflower/twitter-airline-sentiment\n",
    "- Multi-Class Classification Problem"
   ]
  },
  {
   "cell_type": "markdown",
   "metadata": {},
   "source": [
    " ## Choosing a measure of success"
   ]
  },
  {
   "cell_type": "markdown",
   "metadata": {},
   "source": [
    "- Balanced Accuracy Score\n",
    "- Precision and Recall"
   ]
  },
  {
   "cell_type": "markdown",
   "metadata": {},
   "source": [
    "## Deciding on an evaluation protocol"
   ]
  },
  {
   "cell_type": "markdown",
   "metadata": {},
   "source": [
    "- Maintaining a hold-out validation set\n",
    "- Doing K-fold cross-validation"
   ]
  },
  {
   "cell_type": "markdown",
   "metadata": {},
   "source": [
    "## Preparing your data"
   ]
  },
  {
   "cell_type": "code",
   "execution_count": 2,
   "metadata": {
    "id": "i4S0tiStcOxV"
   },
   "outputs": [
    {
     "name": "stderr",
     "output_type": "stream",
     "text": [
      "2023-02-19 21:21:01.545996: I tensorflow/core/platform/cpu_feature_guard.cc:193] This TensorFlow binary is optimized with oneAPI Deep Neural Network Library (oneDNN) to use the following CPU instructions in performance-critical operations:  AVX2 FMA\n",
      "To enable them in other operations, rebuild TensorFlow with the appropriate compiler flags.\n",
      "2023-02-19 21:21:03.565213: W tensorflow/compiler/xla/stream_executor/platform/default/dso_loader.cc:64] Could not load dynamic library 'libcudart.so.11.0'; dlerror: libcudart.so.11.0: cannot open shared object file: No such file or directory\n",
      "2023-02-19 21:21:03.565235: I tensorflow/compiler/xla/stream_executor/cuda/cudart_stub.cc:29] Ignore above cudart dlerror if you do not have a GPU set up on your machine.\n",
      "2023-02-19 21:21:06.878493: W tensorflow/compiler/xla/stream_executor/platform/default/dso_loader.cc:64] Could not load dynamic library 'libnvinfer.so.7'; dlerror: libnvinfer.so.7: cannot open shared object file: No such file or directory\n",
      "2023-02-19 21:21:06.878602: W tensorflow/compiler/xla/stream_executor/platform/default/dso_loader.cc:64] Could not load dynamic library 'libnvinfer_plugin.so.7'; dlerror: libnvinfer_plugin.so.7: cannot open shared object file: No such file or directory\n",
      "2023-02-19 21:21:06.878611: W tensorflow/compiler/tf2tensorrt/utils/py_utils.cc:38] TF-TRT Warning: Cannot dlopen some TensorRT libraries. If you would like to use Nvidia GPU with TensorRT, please make sure the missing libraries mentioned above are installed properly.\n"
     ]
    }
   ],
   "source": [
    "import pandas as pd\n",
    "import numpy as np\n",
    "\n",
    "from sklearn.preprocessing import LabelEncoder\n",
    "from sklearn.model_selection import train_test_split\n",
    "from sklearn.model_selection import StratifiedKFold\n",
    "from sklearn.utils.class_weight import compute_class_weight\n",
    "from sklearn.metrics import accuracy_score, precision_score, recall_score, roc_auc_score\n",
    "from sklearn.metrics import balanced_accuracy_score, confusion_matrix, ConfusionMatrixDisplay\n",
    "from sklearn.feature_extraction.text import TfidfVectorizer\n",
    "\n",
    "import tensorflow as tf\n",
    "from keras.utils import np_utils\n",
    "from keras.models import Sequential\n",
    "from keras.layers import Dense, Dropout\n",
    "from keras.callbacks import EarlyStopping\n",
    "\n",
    "import itertools\n",
    "import matplotlib.pyplot as plt\n",
    "\n",
    "SEED = 204\n",
    "\n",
    "tf.random.set_seed(SEED)\n",
    "np.random.seed(SEED)\n",
    "\n",
    "import warnings\n",
    "warnings.filterwarnings('ignore')"
   ]
  },
  {
   "cell_type": "code",
   "execution_count": 3,
   "metadata": {},
   "outputs": [
    {
     "data": {
      "text/html": [
       "<div>\n",
       "<style scoped>\n",
       "    .dataframe tbody tr th:only-of-type {\n",
       "        vertical-align: middle;\n",
       "    }\n",
       "\n",
       "    .dataframe tbody tr th {\n",
       "        vertical-align: top;\n",
       "    }\n",
       "\n",
       "    .dataframe thead th {\n",
       "        text-align: right;\n",
       "    }\n",
       "</style>\n",
       "<table border=\"1\" class=\"dataframe\">\n",
       "  <thead>\n",
       "    <tr style=\"text-align: right;\">\n",
       "      <th></th>\n",
       "      <th>text</th>\n",
       "      <th>airline_sentiment</th>\n",
       "    </tr>\n",
       "  </thead>\n",
       "  <tbody>\n",
       "    <tr>\n",
       "      <th>0</th>\n",
       "      <td>@VirginAmerica What @dhepburn said.</td>\n",
       "      <td>neutral</td>\n",
       "    </tr>\n",
       "    <tr>\n",
       "      <th>1</th>\n",
       "      <td>@VirginAmerica plus you've added commercials t...</td>\n",
       "      <td>positive</td>\n",
       "    </tr>\n",
       "    <tr>\n",
       "      <th>2</th>\n",
       "      <td>@VirginAmerica I didn't today... Must mean I n...</td>\n",
       "      <td>neutral</td>\n",
       "    </tr>\n",
       "    <tr>\n",
       "      <th>3</th>\n",
       "      <td>@VirginAmerica it's really aggressive to blast...</td>\n",
       "      <td>negative</td>\n",
       "    </tr>\n",
       "    <tr>\n",
       "      <th>4</th>\n",
       "      <td>@VirginAmerica and it's a really big bad thing...</td>\n",
       "      <td>negative</td>\n",
       "    </tr>\n",
       "  </tbody>\n",
       "</table>\n",
       "</div>"
      ],
      "text/plain": [
       "                                                text airline_sentiment\n",
       "0                @VirginAmerica What @dhepburn said.           neutral\n",
       "1  @VirginAmerica plus you've added commercials t...          positive\n",
       "2  @VirginAmerica I didn't today... Must mean I n...           neutral\n",
       "3  @VirginAmerica it's really aggressive to blast...          negative\n",
       "4  @VirginAmerica and it's a really big bad thing...          negative"
      ]
     },
     "execution_count": 3,
     "metadata": {},
     "output_type": "execute_result"
    }
   ],
   "source": [
    "tweets = pd.read_csv('Tweets.csv', sep=',')\n",
    "tweets = tweets[['text', 'airline_sentiment']]\n",
    "\n",
    "tweets.head()"
   ]
  },
  {
   "cell_type": "code",
   "execution_count": 4,
   "metadata": {},
   "outputs": [],
   "source": [
    "TEST_SIZE = 0.1\n",
    "\n",
    "(tweets_train, tweets_test, \n",
    " sentiment_train, sentiment_test) = train_test_split(tweets['text'], tweets['airline_sentiment'], \n",
    "                                                     test_size=TEST_SIZE, stratify=tweets['airline_sentiment'],\n",
    "                                                     shuffle=True, random_state=SEED)"
   ]
  },
  {
   "cell_type": "code",
   "execution_count": 5,
   "metadata": {},
   "outputs": [],
   "source": [
    "MAX_FEATURES = 5000\n",
    "NGRAMS = 2\n",
    "\n",
    "tfidf = TfidfVectorizer(ngram_range=(1, NGRAMS), max_features=MAX_FEATURES)\n",
    "tfidf.fit(tweets_train)\n",
    "\n",
    "X_train, X_test = tfidf.transform(tweets_train).toarray(), tfidf.transform(tweets_test).toarray()"
   ]
  },
  {
   "cell_type": "code",
   "execution_count": 6,
   "metadata": {},
   "outputs": [],
   "source": [
    "label_encoder = LabelEncoder()\n",
    "label_encoder.fit(tweets['airline_sentiment'])\n",
    "\n",
    "y_train = np_utils.to_categorical(label_encoder.transform(sentiment_train))\n",
    "y_test = np_utils.to_categorical(label_encoder.transform(sentiment_test))"
   ]
  },
  {
   "cell_type": "code",
   "execution_count": 7,
   "metadata": {},
   "outputs": [],
   "source": [
    "VALIDATION_SIZE = X_test.shape[0]\n",
    "\n",
    "X_train, X_val, y_train, y_val = train_test_split(X_train, y_train, \n",
    "                                                 test_size=VALIDATION_SIZE, stratify=y_train,\n",
    "                                                 shuffle=True, random_state=SEED)"
   ]
  },
  {
   "cell_type": "markdown",
   "metadata": {},
   "source": [
    "##  Developing a model that does better than a baseline"
   ]
  },
  {
   "cell_type": "code",
   "execution_count": 8,
   "metadata": {},
   "outputs": [
    {
     "data": {
      "text/html": [
       "<div>\n",
       "<style scoped>\n",
       "    .dataframe tbody tr th:only-of-type {\n",
       "        vertical-align: middle;\n",
       "    }\n",
       "\n",
       "    .dataframe tbody tr th {\n",
       "        vertical-align: top;\n",
       "    }\n",
       "\n",
       "    .dataframe thead th {\n",
       "        text-align: right;\n",
       "    }\n",
       "</style>\n",
       "<table border=\"1\" class=\"dataframe\">\n",
       "  <thead>\n",
       "    <tr style=\"text-align: right;\">\n",
       "      <th></th>\n",
       "      <th>airline_sentiment</th>\n",
       "      <th>text</th>\n",
       "    </tr>\n",
       "  </thead>\n",
       "  <tbody>\n",
       "    <tr>\n",
       "      <th>0</th>\n",
       "      <td>negative</td>\n",
       "      <td>9178</td>\n",
       "    </tr>\n",
       "    <tr>\n",
       "      <th>1</th>\n",
       "      <td>neutral</td>\n",
       "      <td>3099</td>\n",
       "    </tr>\n",
       "    <tr>\n",
       "      <th>2</th>\n",
       "      <td>positive</td>\n",
       "      <td>2363</td>\n",
       "    </tr>\n",
       "  </tbody>\n",
       "</table>\n",
       "</div>"
      ],
      "text/plain": [
       "  airline_sentiment  text\n",
       "0          negative  9178\n",
       "1           neutral  3099\n",
       "2          positive  2363"
      ]
     },
     "execution_count": 8,
     "metadata": {},
     "output_type": "execute_result"
    }
   ],
   "source": [
    "counts = tweets.groupby(['airline_sentiment']).count()\n",
    "counts.reset_index(inplace=True)\n",
    "\n",
    "counts"
   ]
  },
  {
   "cell_type": "code",
   "execution_count": 9,
   "metadata": {},
   "outputs": [
    {
     "data": {
      "text/plain": [
       "0.6269125683060109"
      ]
     },
     "execution_count": 9,
     "metadata": {},
     "output_type": "execute_result"
    }
   ],
   "source": [
    "baseline = counts[counts['airline_sentiment']=='negative']['text'].values[0] / counts['text'].sum()\n",
    "\n",
    "baseline"
   ]
  },
  {
   "cell_type": "code",
   "execution_count": 10,
   "metadata": {},
   "outputs": [
    {
     "data": {
      "text/plain": [
       "0.3333333333333333"
      ]
     },
     "execution_count": 10,
     "metadata": {},
     "output_type": "execute_result"
    }
   ],
   "source": [
    "balanced_accuracy_score(y_train.argmax(axis=1), np.zeros(len(y_train)))"
   ]
  },
  {
   "cell_type": "code",
   "execution_count": 11,
   "metadata": {},
   "outputs": [],
   "source": [
    "# MLP Model Instatiation\n",
    "def deep_neural_network(hidden_layers=0, hidden_neurons=np.nan, activation=None,\n",
    "                                     dropout=np.nan, input_dimension=2, output_dimension=1,\n",
    "                                     optimizer='rmsprop', loss='binary_crossentropy', metrics=['accuracy'],\n",
    "                                     name=None) :\n",
    "    \n",
    "    model = Sequential()\n",
    "    for layer in range(hidden_layers) :\n",
    "        model.add(Dense(hidden_neurons, \n",
    "                  activation=activation, \n",
    "                  input_shape='default' if layer>1 else (input_dimension,)))\n",
    "        if ~np.isnan(dropout) :\n",
    "            model.add(Dropout(dropout))\n",
    "        \n",
    "    model.add(Dense(output_dimension, \n",
    "                    activation='sigmoid' if output_dimension==1 else 'softmax',\n",
    "                    input_shape='default' if hidden_layers>0 else (input_dimension,)))\n",
    "  \n",
    "    if name is not None :\n",
    "        model._name = name\n",
    "        \n",
    "    model.compile(optimizer=optimizer, loss=loss, metrics=metrics)\n",
    "    \n",
    "    return model"
   ]
  },
  {
   "cell_type": "code",
   "execution_count": 12,
   "metadata": {},
   "outputs": [],
   "source": [
    "# Fitting MLP Classification Model\n",
    "def train_deep_neural_network(model, X, y, \n",
    "                              class_weights,\n",
    "                              batch_size=32, epochs=100, \n",
    "                              val_data=None, callbacks=[], seed=0) :\n",
    "    \n",
    "    if val_data is None :\n",
    "        X_train, X_val, y_train, y_val = train_test_split(X, y, test_size=0.2, \n",
    "                                                          random_state=seed, shuffle=True, \n",
    "                                                          stratify=y)\n",
    "        \n",
    "    else :\n",
    "        X_train, y_train, X_val, y_val = X, y, val_data[0], val_data[1]\n",
    "  \n",
    "\n",
    "    history = model.fit(X_train, y_train,\n",
    "                        class_weight=class_weights,\n",
    "                        batch_size=batch_size, epochs=epochs, \n",
    "                        validation_data=(X_val, y_val),\n",
    "                        callbacks=callbacks,\n",
    "                        verbose=0)\n",
    "\n",
    "    return {'model': model, \n",
    "            'val_score': model.evaluate(X_val, y_val, verbose=0)[1:], \n",
    "            'history': history }"
   ]
  },
  {
   "cell_type": "code",
   "execution_count": 13,
   "metadata": {},
   "outputs": [
    {
     "name": "stderr",
     "output_type": "stream",
     "text": [
      "2023-02-19 21:21:11.394653: W tensorflow/compiler/xla/stream_executor/platform/default/dso_loader.cc:64] Could not load dynamic library 'libcuda.so.1'; dlerror: libcuda.so.1: cannot open shared object file: No such file or directory\n",
      "2023-02-19 21:21:11.394681: W tensorflow/compiler/xla/stream_executor/cuda/cuda_driver.cc:265] failed call to cuInit: UNKNOWN ERROR (303)\n",
      "2023-02-19 21:21:11.394703: I tensorflow/compiler/xla/stream_executor/cuda/cuda_diagnostics.cc:156] kernel driver does not appear to be running on this host (snottingham): /proc/driver/nvidia/version does not exist\n",
      "2023-02-19 21:21:11.394944: I tensorflow/core/platform/cpu_feature_guard.cc:193] This TensorFlow binary is optimized with oneAPI Deep Neural Network Library (oneDNN) to use the following CPU instructions in performance-critical operations:  AVX2 FMA\n",
      "To enable them in other operations, rebuild TensorFlow with the appropriate compiler flags.\n"
     ]
    }
   ],
   "source": [
    "INPUT_DIMENSION = X_train.shape[1]\n",
    "OUTPUT_CLASSES = y_train.shape[1]\n",
    "\n",
    "OPTIMIZER = 'rmsprop'\n",
    "LOSS_FUNC = 'categorical_crossentropy'\n",
    "METRICS = ['categorical_accuracy', \n",
    "           tf.keras.metrics.Precision(name='precision'), \n",
    "           tf.keras.metrics.Recall(name='recall'),\n",
    "           tf.keras.metrics.AUC(name='auc', multi_label=True)]"
   ]
  },
  {
   "cell_type": "code",
   "execution_count": 14,
   "metadata": {},
   "outputs": [
    {
     "name": "stdout",
     "output_type": "stream",
     "text": [
      "Model: \"Single_Layer_Perceptron\"\n",
      "_________________________________________________________________\n",
      " Layer (type)                Output Shape              Param #   \n",
      "=================================================================\n",
      " dense (Dense)               (None, 3)                 15003     \n",
      "                                                                 \n",
      "=================================================================\n",
      "Total params: 15,003\n",
      "Trainable params: 15,003\n",
      "Non-trainable params: 0\n",
      "_________________________________________________________________\n"
     ]
    }
   ],
   "source": [
    "slp_model = deep_neural_network(hidden_layers=0, \n",
    "                                input_dimension=INPUT_DIMENSION, output_dimension=OUTPUT_CLASSES,\n",
    "                                optimizer=OPTIMIZER, loss=LOSS_FUNC, \n",
    "                                metrics=METRICS,\n",
    "                                name='Single_Layer_Perceptron')\n",
    "\n",
    "slp_model.summary()"
   ]
  },
  {
   "cell_type": "code",
   "execution_count": 15,
   "metadata": {},
   "outputs": [],
   "source": [
    "batch_size = 512\n",
    "EPOCHS = 100\n",
    "\n",
    "MONITOR = 'val_loss'\n",
    "PATIENCE = 5\n",
    "\n",
    "EARLY_STOP = EarlyStopping(monitor=MONITOR, restore_best_weights=True, patience=PATIENCE, verbose=0)"
   ]
  },
  {
   "cell_type": "code",
   "execution_count": 16,
   "metadata": {},
   "outputs": [
    {
     "data": {
      "text/plain": [
       "{0: 0.5317352220103514, 1: 1.5748285599031868, 2: 2.064516129032258}"
      ]
     },
     "execution_count": 16,
     "metadata": {},
     "output_type": "execute_result"
    }
   ],
   "source": [
    "labels = np.argmax(y_train, axis=1)\n",
    "weights = compute_class_weight('balanced', classes=np.unique(labels), y=labels)\n",
    "CLASS_WEIGHTS = dict(enumerate(weights))\n",
    "\n",
    "CLASS_WEIGHTS"
   ]
  },
  {
   "cell_type": "code",
   "execution_count": 17,
   "metadata": {},
   "outputs": [],
   "source": [
    "trained_slp_model = train_deep_neural_network(slp_model, X_train, y_train,\n",
    "                                              CLASS_WEIGHTS,\n",
    "                                              batch_size=batch_size, epochs=500, \n",
    "                                              val_data=(X_val, y_val), \n",
    "                                              callbacks=[EARLY_STOP], seed=SEED)"
   ]
  },
  {
   "cell_type": "code",
   "execution_count": 18,
   "metadata": {},
   "outputs": [
    {
     "name": "stdout",
     "output_type": "stream",
     "text": [
      "Accuracy (Validation): 0.80 (baseline=0.63)\n",
      "Precision (Validation): 0.83\n",
      "Recall (Validation): 0.77\n",
      "AUC (Validation): 0.92\n"
     ]
    }
   ],
   "source": [
    "print('Accuracy (Validation): {:.2f} (baseline=0.63)'.format(trained_slp_model['val_score'][0]))\n",
    "print('Precision (Validation): {:.2f}'.format(trained_slp_model['val_score'][1]))\n",
    "print('Recall (Validation): {:.2f}'.format(trained_slp_model['val_score'][2]))\n",
    "print('AUC (Validation): {:.2f}'.format(trained_slp_model['val_score'][3]))"
   ]
  },
  {
   "cell_type": "code",
   "execution_count": 19,
   "metadata": {},
   "outputs": [
    {
     "name": "stdout",
     "output_type": "stream",
     "text": [
      "Balanced Accuracy (Validation): 0.78 (baseline = 0.33)\n"
     ]
    }
   ],
   "source": [
    "preds = trained_slp_model['model'].predict(X_val, verbose=0).argmax(axis=1)\n",
    "\n",
    "print('Balanced Accuracy (Validation): {:.2f} (baseline = 0.33)'.format(balanced_accuracy_score(y_val.argmax(axis=1), preds)))"
   ]
  },
  {
   "cell_type": "code",
   "execution_count": 20,
   "metadata": {
    "id": "dNzQH9Srwt5R"
   },
   "outputs": [],
   "source": [
    "def plot_training_history(history, monitors=['loss', 'AUC']) :\n",
    "\n",
    "  # using the variable axs for multiple Axes\n",
    "  fig, axs = plt.subplots(1, 2, sharex='all', figsize=(15,5))\n",
    " \n",
    "  for ax, monitor in zip(axs.flat, monitors) :\n",
    "    loss, val_loss = history.history[monitor], history.history['val_' + monitor]\n",
    "\n",
    "    if monitor == 'loss' :\n",
    "      monitor = monitor.capitalize()\n",
    "\n",
    "    epochs = range(1, len(loss)+1)\n",
    "\n",
    "    ax.plot(epochs, loss, 'b.', label=monitor)\n",
    "    ax.plot(epochs, val_loss, 'r.', label='Validation ' + monitor)\n",
    "    ax.set_xlim([0, len(loss)])\n",
    "    ax.title.set_text('Training and Validation ' + monitor + 's')\n",
    "    ax.set_xlabel('Epochs')\n",
    "    ax.set_ylabel(monitor)\n",
    "    ax.legend()\n",
    "    ax.grid()\n",
    "\n",
    "  _ = plt.show()"
   ]
  },
  {
   "cell_type": "code",
   "execution_count": 34,
   "metadata": {
    "colab": {
     "base_uri": "https://localhost:8080/",
     "height": 350
    },
    "id": "xT6SBVGW0dEA",
    "outputId": "55f3b135-788f-4741-b1f9-5882bbada568"
   },
   "outputs": [
    {
     "data": {
      "image/png": "[encoded data removed]",
      "text/plain": [
       "<Figure size 1500x500 with 2 Axes>"
      ]
     },
     "metadata": {},
     "output_type": "display_data"
    }
   ],
   "source": [
    "plot_training_history(trained_slp_model['history'], monitors=['loss', 'auc'])"
   ]
  },
  {
   "cell_type": "markdown",
   "metadata": {},
   "source": [
    " ## Scaling up: developing a model that overfits"
   ]
  },
  {
   "cell_type": "code",
   "execution_count": 22,
   "metadata": {},
   "outputs": [
    {
     "name": "stdout",
     "output_type": "stream",
     "text": [
      "Model: \"Multi_Layer_Perceptron\"\n",
      "_________________________________________________________________\n",
      " Layer (type)                Output Shape              Param #   \n",
      "=================================================================\n",
      " dense_1 (Dense)             (None, 64)                320064    \n",
      "                                                                 \n",
      " dense_2 (Dense)             (None, 3)                 195       \n",
      "                                                                 \n",
      "=================================================================\n",
      "Total params: 320,259\n",
      "Trainable params: 320,259\n",
      "Non-trainable params: 0\n",
      "_________________________________________________________________\n"
     ]
    }
   ],
   "source": [
    "mlp_model = deep_neural_network(hidden_layers=1, hidden_neurons=64,\n",
    "                                activation='relu',\n",
    "                                input_dimension=INPUT_DIMENSION, output_dimension=OUTPUT_CLASSES,\n",
    "                                optimizer=OPTIMIZER, loss=LOSS_FUNC, \n",
    "                                metrics=METRICS,\n",
    "                                name='Multi_Layer_Perceptron')\n",
    "\n",
    "mlp_model.summary()"
   ]
  },
  {
   "cell_type": "code",
   "execution_count": 23,
   "metadata": {},
   "outputs": [],
   "source": [
    "trained_mlp_model = train_deep_neural_network(mlp_model, X_train, y_train,\n",
    "                                              CLASS_WEIGHTS,\n",
    "                                              batch_size=batch_size, epochs=EPOCHS, \n",
    "                                              val_data=(X_val, y_val), \n",
    "                                              callbacks=[], seed=SEED)"
   ]
  },
  {
   "cell_type": "code",
   "execution_count": 33,
   "metadata": {},
   "outputs": [
    {
     "data": {
      "image/png": "[encoded data removed]",
      "text/plain": [
       "<Figure size 1500x500 with 2 Axes>"
      ]
     },
     "metadata": {},
     "output_type": "display_data"
    }
   ],
   "source": [
    "plot_training_history(trained_mlp_model['history'], monitors=['loss', 'auc'])"
   ]
  },
  {
   "cell_type": "code",
   "execution_count": 25,
   "metadata": {},
   "outputs": [
    {
     "name": "stdout",
     "output_type": "stream",
     "text": [
      "Accuracy (Validation): 0.78 (baseline=0.63)\n",
      "Precision (Validation): 0.78\n",
      "Recall (Validation): 0.78\n",
      "AUC (Validation): 0.87\n"
     ]
    }
   ],
   "source": [
    "print('Accuracy (Validation): {:.2f} (baseline=0.63)'.format(trained_mlp_model['val_score'][0]))\n",
    "print('Precision (Validation): {:.2f}'.format(trained_mlp_model['val_score'][1]))\n",
    "print('Recall (Validation): {:.2f}'.format(trained_mlp_model['val_score'][2]))\n",
    "print('AUC (Validation): {:.2f}'.format(trained_mlp_model['val_score'][3]))"
   ]
  },
  {
   "cell_type": "code",
   "execution_count": 26,
   "metadata": {},
   "outputs": [
    {
     "name": "stdout",
     "output_type": "stream",
     "text": [
      "Balanced Accuracy (Validation): 0.73 (baseline=0.33)\n"
     ]
    }
   ],
   "source": [
    "preds = trained_mlp_model['model'].predict(X_val, verbose=0).argmax(axis=1)\n",
    "\n",
    "print('Balanced Accuracy (Validation): {:.2f} (baseline=0.33)'.format(balanced_accuracy_score(y_val.argmax(axis=1), preds)))"
   ]
  },
  {
   "cell_type": "markdown",
   "metadata": {},
   "source": [
    " ## Regularizing your model and tuning your hyperparameters"
   ]
  },
  {
   "cell_type": "code",
   "execution_count": 27,
   "metadata": {},
   "outputs": [],
   "source": [
    "# Compute Balanced Accuracy Score for Softmax One-Hot Encoded Output\n",
    "def compute_balanced_accuracy_score(y, preds) :\n",
    "    return balanced_accuracy_score(y.argmax(axis=1), preds.argmax(axis=1))\n",
    "\n",
    "# Reformat Grid CV Stats to Dataframe\n",
    "def to_dataframe(stats, mapping) :\n",
    "    entries = []\n",
    "    for param, metrics in stats.items() :\n",
    "        entry = eval(param)\n",
    "        for key, value in metrics.items() :\n",
    "            entry[key] = value\n",
    "        \n",
    "        for key, value in mapping.items() :\n",
    "            entry[value] = entry['scores'][key]\n",
    "            \n",
    "        entry.pop('scores') \n",
    "        \n",
    "        entries.append( entry )\n",
    "\n",
    "    return pd.DataFrame(data=entries)"
   ]
  },
  {
   "cell_type": "code",
   "execution_count": 28,
   "metadata": {},
   "outputs": [],
   "source": [
    "# Grid Search CV\n",
    "def grid_search_cv(X, y, class_weights, \n",
    "                   space, cv, \n",
    "                   optimizer, loss, metrics, \n",
    "                   epochs, callbacks=[], seed=0,\n",
    "                   addon_metrics={}, order={}) :\n",
    "    \n",
    "    keys, values = zip(*space.items())\n",
    "    \n",
    "    stats = {}\n",
    "    for params in [dict(zip(keys, v)) for v in itertools.product(*values)] :\n",
    "        kfold = StratifiedKFold(n_splits=cv, shuffle=True, random_state=seed)\n",
    "        \n",
    "        scores, stopped, losses = [], [], []\n",
    "        for train, validate in kfold.split(X, y.argmax(axis=1)) :\n",
    "            model = deep_neural_network(hidden_layers=params['hidden_layers'], \n",
    "                                        hidden_neurons=params['neurons'], \n",
    "                                        activation=params['activation'], \n",
    "                                        dropout=params['dropout'], \n",
    "                                        input_dimension=X.shape[1], \n",
    "                                        output_dimension=1 if len(y.shape)<2 else y.shape[1],\n",
    "                                        optimizer=optimizer, loss=loss, \n",
    "                                        metrics=metrics)\n",
    "      \n",
    "            trained = train_deep_neural_network(model, \n",
    "                                                X[train,:], y[train], \n",
    "                                                class_weights,\n",
    "                                                batch_size=params['batch_size'], epochs=epochs, \n",
    "                                                val_data=(X[validate,:], y[validate,:]), \n",
    "                                                callbacks=callbacks, seed=seed) \n",
    "            \n",
    "            evaluations = trained['model'].evaluate(X[validate,:], y[validate,:], verbose=0)[1:]\n",
    "            for key, value in addon_metrics.items() :\n",
    "                preds = trained['model'].predict(X[validate,:], verbose=0)\n",
    "                evaluations.append( value(y[validate,:], preds) )\n",
    "                        \n",
    "            scores.append( evaluations )\n",
    "            stopped.append( len(trained['history'].history['val_loss']) )\n",
    "            losses.append( np.min(trained['history'].history['val_loss']) )\n",
    "        \n",
    "        stats[str(params)] = { 'scores': np.mean(scores, axis=0), \n",
    "                               'epochs': np.mean(stopped), \n",
    "                               'val_loss': np.mean(losses) }\n",
    "    \n",
    "    return to_dataframe(stats, order)"
   ]
  },
  {
   "cell_type": "code",
   "execution_count": 29,
   "metadata": {},
   "outputs": [],
   "source": [
    "addon_metrics = {'balanced_accuracy': compute_balanced_accuracy_score}\n",
    "\n",
    "orders = {\n",
    "    0: 'categorical_accuracy',              \n",
    "    1: 'precision',\n",
    "    2: 'recall',\n",
    "    3: 'auc',\n",
    "    4: 'balanced_accuracy'\n",
    "}"
   ]
  },
  {
   "cell_type": "code",
   "execution_count": 30,
   "metadata": {},
   "outputs": [],
   "source": [
    "KFOLDS = 5"
   ]
  },
  {
   "cell_type": "code",
   "execution_count": 31,
   "metadata": {},
   "outputs": [],
   "source": [
    "params = {\n",
    "    'hidden_layers': [1, 2, 3, 4, 5],\n",
    "    'neurons': [32, 64],\n",
    "    'activation': ['relu'],\n",
    "    'dropout': [0.25, 0.5],\n",
    "    'batch_size': [512]\n",
    "}\n",
    "\n",
    "stats = grid_search_cv(X_train, y_train,  \n",
    "                       class_weights=CLASS_WEIGHTS,\n",
    "                       space=params, cv=KFOLDS, \n",
    "                       optimizer=OPTIMIZER, loss=LOSS_FUNC, metrics=METRICS, \n",
    "                       epochs=EPOCHS, callbacks=[EARLY_STOP], seed=SEED,\n",
    "                       addon_metrics=addon_metrics, order=orders)"
   ]
  },
  {
   "cell_type": "code",
   "execution_count": 35,
   "metadata": {},
   "outputs": [
    {
     "data": {
      "text/html": [
       "<div>\n",
       "<style scoped>\n",
       "    .dataframe tbody tr th:only-of-type {\n",
       "        vertical-align: middle;\n",
       "    }\n",
       "\n",
       "    .dataframe tbody tr th {\n",
       "        vertical-align: top;\n",
       "    }\n",
       "\n",
       "    .dataframe thead th {\n",
       "        text-align: right;\n",
       "    }\n",
       "</style>\n",
       "<table border=\"1\" class=\"dataframe\">\n",
       "  <thead>\n",
       "    <tr style=\"text-align: right;\">\n",
       "      <th></th>\n",
       "      <th>hidden_layers</th>\n",
       "      <th>neurons</th>\n",
       "      <th>activation</th>\n",
       "      <th>dropout</th>\n",
       "      <th>batch_size</th>\n",
       "      <th>epochs</th>\n",
       "      <th>val_loss</th>\n",
       "      <th>categorical_accuracy</th>\n",
       "      <th>precision</th>\n",
       "      <th>recall</th>\n",
       "      <th>auc</th>\n",
       "      <th>balanced_accuracy</th>\n",
       "    </tr>\n",
       "  </thead>\n",
       "  <tbody>\n",
       "    <tr>\n",
       "      <th>7</th>\n",
       "      <td>2</td>\n",
       "      <td>64</td>\n",
       "      <td>relu</td>\n",
       "      <td>0.50</td>\n",
       "      <td>512</td>\n",
       "      <td>16.2</td>\n",
       "      <td>0.522279</td>\n",
       "      <td>0.795594</td>\n",
       "      <td>0.814859</td>\n",
       "      <td>0.769382</td>\n",
       "      <td>0.909787</td>\n",
       "      <td>0.756999</td>\n",
       "    </tr>\n",
       "    <tr>\n",
       "      <th>1</th>\n",
       "      <td>1</td>\n",
       "      <td>32</td>\n",
       "      <td>relu</td>\n",
       "      <td>0.50</td>\n",
       "      <td>512</td>\n",
       "      <td>39.4</td>\n",
       "      <td>0.524633</td>\n",
       "      <td>0.790215</td>\n",
       "      <td>0.814959</td>\n",
       "      <td>0.758708</td>\n",
       "      <td>0.909138</td>\n",
       "      <td>0.753529</td>\n",
       "    </tr>\n",
       "    <tr>\n",
       "      <th>5</th>\n",
       "      <td>2</td>\n",
       "      <td>32</td>\n",
       "      <td>relu</td>\n",
       "      <td>0.50</td>\n",
       "      <td>512</td>\n",
       "      <td>22.0</td>\n",
       "      <td>0.527027</td>\n",
       "      <td>0.794654</td>\n",
       "      <td>0.816257</td>\n",
       "      <td>0.768442</td>\n",
       "      <td>0.908868</td>\n",
       "      <td>0.753381</td>\n",
       "    </tr>\n",
       "    <tr>\n",
       "      <th>3</th>\n",
       "      <td>1</td>\n",
       "      <td>64</td>\n",
       "      <td>relu</td>\n",
       "      <td>0.50</td>\n",
       "      <td>512</td>\n",
       "      <td>28.8</td>\n",
       "      <td>0.527083</td>\n",
       "      <td>0.788763</td>\n",
       "      <td>0.814721</td>\n",
       "      <td>0.755635</td>\n",
       "      <td>0.908698</td>\n",
       "      <td>0.753119</td>\n",
       "    </tr>\n",
       "    <tr>\n",
       "      <th>6</th>\n",
       "      <td>2</td>\n",
       "      <td>64</td>\n",
       "      <td>relu</td>\n",
       "      <td>0.25</td>\n",
       "      <td>512</td>\n",
       "      <td>14.2</td>\n",
       "      <td>0.520064</td>\n",
       "      <td>0.794740</td>\n",
       "      <td>0.814818</td>\n",
       "      <td>0.769637</td>\n",
       "      <td>0.908550</td>\n",
       "      <td>0.752430</td>\n",
       "    </tr>\n",
       "    <tr>\n",
       "      <th>2</th>\n",
       "      <td>1</td>\n",
       "      <td>64</td>\n",
       "      <td>relu</td>\n",
       "      <td>0.25</td>\n",
       "      <td>512</td>\n",
       "      <td>28.8</td>\n",
       "      <td>0.526452</td>\n",
       "      <td>0.786885</td>\n",
       "      <td>0.811644</td>\n",
       "      <td>0.757513</td>\n",
       "      <td>0.907764</td>\n",
       "      <td>0.749629</td>\n",
       "    </tr>\n",
       "    <tr>\n",
       "      <th>0</th>\n",
       "      <td>1</td>\n",
       "      <td>32</td>\n",
       "      <td>relu</td>\n",
       "      <td>0.25</td>\n",
       "      <td>512</td>\n",
       "      <td>35.2</td>\n",
       "      <td>0.529332</td>\n",
       "      <td>0.787226</td>\n",
       "      <td>0.810298</td>\n",
       "      <td>0.754354</td>\n",
       "      <td>0.907438</td>\n",
       "      <td>0.752007</td>\n",
       "    </tr>\n",
       "    <tr>\n",
       "      <th>10</th>\n",
       "      <td>3</td>\n",
       "      <td>64</td>\n",
       "      <td>relu</td>\n",
       "      <td>0.25</td>\n",
       "      <td>512</td>\n",
       "      <td>11.2</td>\n",
       "      <td>0.527767</td>\n",
       "      <td>0.795935</td>\n",
       "      <td>0.817984</td>\n",
       "      <td>0.768783</td>\n",
       "      <td>0.906497</td>\n",
       "      <td>0.746741</td>\n",
       "    </tr>\n",
       "    <tr>\n",
       "      <th>8</th>\n",
       "      <td>3</td>\n",
       "      <td>32</td>\n",
       "      <td>relu</td>\n",
       "      <td>0.25</td>\n",
       "      <td>512</td>\n",
       "      <td>14.4</td>\n",
       "      <td>0.532830</td>\n",
       "      <td>0.795936</td>\n",
       "      <td>0.816184</td>\n",
       "      <td>0.769467</td>\n",
       "      <td>0.906376</td>\n",
       "      <td>0.749372</td>\n",
       "    </tr>\n",
       "    <tr>\n",
       "      <th>4</th>\n",
       "      <td>2</td>\n",
       "      <td>32</td>\n",
       "      <td>relu</td>\n",
       "      <td>0.25</td>\n",
       "      <td>512</td>\n",
       "      <td>18.8</td>\n",
       "      <td>0.532666</td>\n",
       "      <td>0.790641</td>\n",
       "      <td>0.810375</td>\n",
       "      <td>0.765539</td>\n",
       "      <td>0.906111</td>\n",
       "      <td>0.754465</td>\n",
       "    </tr>\n",
       "  </tbody>\n",
       "</table>\n",
       "</div>"
      ],
      "text/plain": [
       "    hidden_layers  neurons activation  dropout  batch_size  epochs  val_loss  \\\n",
       "7               2       64       relu     0.50         512    16.2  0.522279   \n",
       "1               1       32       relu     0.50         512    39.4  0.524633   \n",
       "5               2       32       relu     0.50         512    22.0  0.527027   \n",
       "3               1       64       relu     0.50         512    28.8  0.527083   \n",
       "6               2       64       relu     0.25         512    14.2  0.520064   \n",
       "2               1       64       relu     0.25         512    28.8  0.526452   \n",
       "0               1       32       relu     0.25         512    35.2  0.529332   \n",
       "10              3       64       relu     0.25         512    11.2  0.527767   \n",
       "8               3       32       relu     0.25         512    14.4  0.532830   \n",
       "4               2       32       relu     0.25         512    18.8  0.532666   \n",
       "\n",
       "    categorical_accuracy  precision    recall       auc  balanced_accuracy  \n",
       "7               0.795594   0.814859  0.769382  0.909787           0.756999  \n",
       "1               0.790215   0.814959  0.758708  0.909138           0.753529  \n",
       "5               0.794654   0.816257  0.768442  0.908868           0.753381  \n",
       "3               0.788763   0.814721  0.755635  0.908698           0.753119  \n",
       "6               0.794740   0.814818  0.769637  0.908550           0.752430  \n",
       "2               0.786885   0.811644  0.757513  0.907764           0.749629  \n",
       "0               0.787226   0.810298  0.754354  0.907438           0.752007  \n",
       "10              0.795935   0.817984  0.768783  0.906497           0.746741  \n",
       "8               0.795936   0.816184  0.769467  0.906376           0.749372  \n",
       "4               0.790641   0.810375  0.765539  0.906111           0.754465  "
      ]
     },
     "execution_count": 35,
     "metadata": {},
     "output_type": "execute_result"
    }
   ],
   "source": [
    "stats.sort_values(by=['auc'], ascending=False).head(10)"
   ]
  },
  {
   "cell_type": "code",
   "execution_count": 37,
   "metadata": {},
   "outputs": [
    {
     "name": "stdout",
     "output_type": "stream",
     "text": [
      "Model: \"Narrow_Shallow_Network\"\n",
      "_________________________________________________________________\n",
      " Layer (type)                Output Shape              Param #   \n",
      "=================================================================\n",
      " dense_403 (Dense)           (None, 32)                160032    \n",
      "                                                                 \n",
      " dropout_300 (Dropout)       (None, 32)                0         \n",
      "                                                                 \n",
      " dense_404 (Dense)           (None, 3)                 99        \n",
      "                                                                 \n",
      "=================================================================\n",
      "Total params: 160,131\n",
      "Trainable params: 160,131\n",
      "Non-trainable params: 0\n",
      "_________________________________________________________________\n"
     ]
    }
   ],
   "source": [
    "opt_model = deep_neural_network(hidden_layers=1, hidden_neurons=32,\n",
    "                                dropout=0.5, activation='relu',\n",
    "                                input_dimension=INPUT_DIMENSION, output_dimension=OUTPUT_CLASSES,\n",
    "                                optimizer=OPTIMIZER, loss=LOSS_FUNC, \n",
    "                                metrics=METRICS,\n",
    "                                name='Narrow_Shallow_Network')\n",
    "\n",
    "opt_model.summary()"
   ]
  },
  {
   "cell_type": "code",
   "execution_count": 38,
   "metadata": {},
   "outputs": [],
   "source": [
    "trained_opt_model = train_deep_neural_network(opt_model, X_train, y_train,\n",
    "                                              CLASS_WEIGHTS,\n",
    "                                              batch_size=batch_size, epochs=EPOCHS, \n",
    "                                              val_data=(X_val, y_val), \n",
    "                                              callbacks=[EARLY_STOP], seed=SEED)"
   ]
  },
  {
   "cell_type": "code",
   "execution_count": 39,
   "metadata": {},
   "outputs": [
    {
     "data": {
      "image/png": "[encoded data removed]",
      "text/plain": [
       "<Figure size 1500x500 with 2 Axes>"
      ]
     },
     "metadata": {},
     "output_type": "display_data"
    }
   ],
   "source": [
    "plot_training_history(trained_opt_model['history'], monitors=['loss', 'auc'])"
   ]
  },
  {
   "cell_type": "code",
   "execution_count": 40,
   "metadata": {},
   "outputs": [
    {
     "name": "stdout",
     "output_type": "stream",
     "text": [
      "Accuracy (Validation): 0.81 (baseline=0.63)\n",
      "Precision (Validation): 0.82\n",
      "Recall (Validation): 0.78\n",
      "AUC (Validation): 0.92\n"
     ]
    }
   ],
   "source": [
    "print('Accuracy (Validation): {:.2f} (baseline=0.63)'.format(trained_opt_model['val_score'][0]))\n",
    "print('Precision (Validation): {:.2f}'.format(trained_opt_model['val_score'][1]))\n",
    "print('Recall (Validation): {:.2f}'.format(trained_opt_model['val_score'][2]))\n",
    "print('AUC (Validation): {:.2f}'.format(trained_opt_model['val_score'][3]))"
   ]
  },
  {
   "cell_type": "code",
   "execution_count": 41,
   "metadata": {},
   "outputs": [
    {
     "name": "stdout",
     "output_type": "stream",
     "text": [
      "Balanced Accuracy (Validation): 0.78 (baseline = 0.33)\n"
     ]
    }
   ],
   "source": [
    "preds = trained_opt_model['model'].predict(X_val, verbose=0).argmax(axis=1)\n",
    "\n",
    "print('Balanced Accuracy (Validation): {:.2f} (baseline = 0.33)'.format(balanced_accuracy_score(y_val.argmax(axis=1), preds)))"
   ]
  },
  {
   "cell_type": "code",
   "execution_count": 42,
   "metadata": {},
   "outputs": [
    {
     "name": "stdout",
     "output_type": "stream",
     "text": [
      "Accuracy (Test): 0.79 (baseline=0.63)\n",
      "Precision (Test): 0.73\n",
      "Recall (Test): 0.75\n",
      "AUC (Test): 0.91\n"
     ]
    }
   ],
   "source": [
    "preds = trained_opt_model['model'].predict(X_test, verbose=0)\n",
    "\n",
    "print('Accuracy (Test): {:.2f} (baseline=0.63)'.format(accuracy_score(y_test.argmax(axis=1), \n",
    "                                                                      preds.argmax(axis=1))))\n",
    "print('Precision (Test): {:.2f}'.format(precision_score(y_test.argmax(axis=1), \n",
    "                                                        preds.argmax(axis=1),\n",
    "                                                        average='macro')))\n",
    "print('Recall (Test): {:.2f}'.format(recall_score(y_test.argmax(axis=1), \n",
    "                                                  preds.argmax(axis=1),\n",
    "                                                  average='macro')))\n",
    "print('AUC (Test): {:.2f}'.format(roc_auc_score(y_test, \n",
    "                                                preds,\n",
    "\n",
    "                                                multi_class='ovo',\n",
    "                                                average='macro')))"
   ]
  },
  {
   "cell_type": "code",
   "execution_count": 43,
   "metadata": {},
   "outputs": [
    {
     "name": "stdout",
     "output_type": "stream",
     "text": [
      "Balanced Accuracy (Validation): 0.75 (baseline = 0.33)\n"
     ]
    }
   ],
   "source": [
    "print('Balanced Accuracy (Validation): {:.2f} (baseline = 0.33)'.format(balanced_accuracy_score(y_test.argmax(axis=1), preds.argmax(axis=1))))"
   ]
  },
  {
   "cell_type": "code",
   "execution_count": 44,
   "metadata": {},
   "outputs": [
    {
     "data": {
      "image/png": "[encoded data removed]",
      "text/plain": [
       "<Figure size 640x480 with 2 Axes>"
      ]
     },
     "metadata": {},
     "output_type": "display_data"
    }
   ],
   "source": [
    "disp = ConfusionMatrixDisplay( confusion_matrix(y_test.argmax(axis=1), preds.argmax(axis=1)),\n",
    "                               display_labels=['Negative', 'Neutral', 'Positive'])\n",
    "_ = disp.plot()"
   ]
  },
  {
   "cell_type": "code",
   "execution_count": null,
   "metadata": {},
   "outputs": [],
   "source": []
  }
 ],
 "metadata": {
  "accelerator": "GPU",
  "colab": {
   "provenance": []
  },
  "gpuClass": "standard",
  "kernelspec": {
   "display_name": "Python 3 (ipykernel)",
   "language": "python",
   "name": "python3"
  },
  "language_info": {
   "codemirror_mode": {
    "name": "ipython",
    "version": 3
   },
   "file_extension": ".py",
   "mimetype": "text/x-python",
   "name": "python",
   "nbconvert_exporter": "python",
   "pygments_lexer": "ipython3",
   "version": "3.9.13"
  }
 },
 "nbformat": 4,
 "nbformat_minor": 1
}
