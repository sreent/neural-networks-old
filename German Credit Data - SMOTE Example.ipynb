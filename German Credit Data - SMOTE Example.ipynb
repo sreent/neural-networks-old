{
 "cells": [
  {
   "cell_type": "markdown",
   "metadata": {},
   "source": [
    " ## Defining the problem and assembling a dataset"
   ]
  },
  {
   "cell_type": "markdown",
   "metadata": {},
   "source": [
    "- German Credit Data\n",
    "  - https://archive.ics.uci.edu/ml/datasets/statlog+(german+credit+data)\n",
    "- Binary Classification Problem"
   ]
  },
  {
   "cell_type": "markdown",
   "metadata": {},
   "source": [
    " ## Choosing a measure of success"
   ]
  },
  {
   "cell_type": "markdown",
   "metadata": {},
   "source": [
    "- Balanced Accuracy Score\n",
    "- Precision and Recall\n",
    "- AUC"
   ]
  },
  {
   "cell_type": "markdown",
   "metadata": {},
   "source": [
    "## Deciding on an evaluation protocol"
   ]
  },
  {
   "cell_type": "markdown",
   "metadata": {},
   "source": [
    "- Maintaining a hold-out validation set\n",
    "- Doing K-fold cross-validation"
   ]
  },
  {
   "cell_type": "markdown",
   "metadata": {},
   "source": [
    "## Preparing your data"
   ]
  },
  {
   "cell_type": "code",
   "execution_count": 3,
   "metadata": {
    "id": "i4S0tiStcOxV"
   },
   "outputs": [],
   "source": [
    "import pandas as pd\n",
    "import numpy as np\n",
    "\n",
    "from imblearn.over_sampling import SMOTE\n",
    "from sklearn.preprocessing import LabelEncoder\n",
    "from sklearn.preprocessing import OneHotEncoder, StandardScaler\n",
    "from sklearn.compose import ColumnTransformer\n",
    "from sklearn.model_selection import train_test_split\n",
    "from sklearn.model_selection import StratifiedKFold\n",
    "from sklearn.metrics import accuracy_score, precision_score, recall_score, roc_auc_score\n",
    "from sklearn.metrics import balanced_accuracy_score, confusion_matrix, ConfusionMatrixDisplay\n",
    "\n",
    "import tensorflow as tf\n",
    "from keras.utils import np_utils\n",
    "from keras.models import Sequential\n",
    "from keras.layers import Dense, Dropout\n",
    "from keras.callbacks import EarlyStopping\n",
    "\n",
    "import itertools\n",
    "import matplotlib.pyplot as plt\n",
    "\n",
    "SEED = 204\n",
    "\n",
    "tf.random.set_seed(SEED)\n",
    "np.random.seed(SEED)\n",
    "\n",
    "import warnings\n",
    "warnings.filterwarnings('ignore')"
   ]
  },
  {
   "cell_type": "code",
   "execution_count": 7,
   "metadata": {},
   "outputs": [],
   "source": [
    "FILE_PATH = 'http://archive.ics.uci.edu/ml/machine-learning-databases/statlog/german/german.data'\n",
    "\n",
    "HEADERS = ['Status of existing checking account', 'Duration in month', 'Credit history',\n",
    "           'Purpose','Credit amount', 'Savings account/bonds', 'Present employment since',\n",
    "           'Installment rate in percentage of disposable income', 'Personal status and sex',\n",
    "           'Other debtors / guarantors', 'Present residence since', 'Property', 'Age in years',\n",
    "           'Other installment plans', 'Housing', 'Number of existing credits at this bank',\n",
    "           'Job', 'Number of people being liable to provide maintenance for', 'Telephone', 'Foreign worker', \n",
    "           'Cost Matrix(Risk)']"
   ]
  },
  {
   "cell_type": "code",
   "execution_count": 5,
   "metadata": {},
   "outputs": [
    {
     "data": {
      "text/html": [
       "<div>\n",
       "<style scoped>\n",
       "    .dataframe tbody tr th:only-of-type {\n",
       "        vertical-align: middle;\n",
       "    }\n",
       "\n",
       "    .dataframe tbody tr th {\n",
       "        vertical-align: top;\n",
       "    }\n",
       "\n",
       "    .dataframe thead th {\n",
       "        text-align: right;\n",
       "    }\n",
       "</style>\n",
       "<table border=\"1\" class=\"dataframe\">\n",
       "  <thead>\n",
       "    <tr style=\"text-align: right;\">\n",
       "      <th></th>\n",
       "      <th>Status of existing checking account</th>\n",
       "      <th>Duration in month</th>\n",
       "      <th>Credit history</th>\n",
       "      <th>Purpose</th>\n",
       "      <th>Credit amount</th>\n",
       "      <th>Savings account/bonds</th>\n",
       "      <th>Present employment since</th>\n",
       "      <th>Installment rate in percentage of disposable income</th>\n",
       "      <th>Personal status and sex</th>\n",
       "      <th>Other debtors / guarantors</th>\n",
       "      <th>...</th>\n",
       "      <th>Property</th>\n",
       "      <th>Age in years</th>\n",
       "      <th>Other installment plans</th>\n",
       "      <th>Housing</th>\n",
       "      <th>Number of existing credits at this bank</th>\n",
       "      <th>Job</th>\n",
       "      <th>Number of people being liable to provide maintenance for</th>\n",
       "      <th>Telephone</th>\n",
       "      <th>Foreign worker</th>\n",
       "      <th>Cost Matrix(Risk)</th>\n",
       "    </tr>\n",
       "  </thead>\n",
       "  <tbody>\n",
       "    <tr>\n",
       "      <th>0</th>\n",
       "      <td>A11</td>\n",
       "      <td>6</td>\n",
       "      <td>A34</td>\n",
       "      <td>A43</td>\n",
       "      <td>1169</td>\n",
       "      <td>A65</td>\n",
       "      <td>A75</td>\n",
       "      <td>4</td>\n",
       "      <td>A93</td>\n",
       "      <td>A101</td>\n",
       "      <td>...</td>\n",
       "      <td>A121</td>\n",
       "      <td>67</td>\n",
       "      <td>A143</td>\n",
       "      <td>A152</td>\n",
       "      <td>2</td>\n",
       "      <td>A173</td>\n",
       "      <td>1</td>\n",
       "      <td>A192</td>\n",
       "      <td>A201</td>\n",
       "      <td>1</td>\n",
       "    </tr>\n",
       "    <tr>\n",
       "      <th>1</th>\n",
       "      <td>A12</td>\n",
       "      <td>48</td>\n",
       "      <td>A32</td>\n",
       "      <td>A43</td>\n",
       "      <td>5951</td>\n",
       "      <td>A61</td>\n",
       "      <td>A73</td>\n",
       "      <td>2</td>\n",
       "      <td>A92</td>\n",
       "      <td>A101</td>\n",
       "      <td>...</td>\n",
       "      <td>A121</td>\n",
       "      <td>22</td>\n",
       "      <td>A143</td>\n",
       "      <td>A152</td>\n",
       "      <td>1</td>\n",
       "      <td>A173</td>\n",
       "      <td>1</td>\n",
       "      <td>A191</td>\n",
       "      <td>A201</td>\n",
       "      <td>2</td>\n",
       "    </tr>\n",
       "    <tr>\n",
       "      <th>2</th>\n",
       "      <td>A14</td>\n",
       "      <td>12</td>\n",
       "      <td>A34</td>\n",
       "      <td>A46</td>\n",
       "      <td>2096</td>\n",
       "      <td>A61</td>\n",
       "      <td>A74</td>\n",
       "      <td>2</td>\n",
       "      <td>A93</td>\n",
       "      <td>A101</td>\n",
       "      <td>...</td>\n",
       "      <td>A121</td>\n",
       "      <td>49</td>\n",
       "      <td>A143</td>\n",
       "      <td>A152</td>\n",
       "      <td>1</td>\n",
       "      <td>A172</td>\n",
       "      <td>2</td>\n",
       "      <td>A191</td>\n",
       "      <td>A201</td>\n",
       "      <td>1</td>\n",
       "    </tr>\n",
       "    <tr>\n",
       "      <th>3</th>\n",
       "      <td>A11</td>\n",
       "      <td>42</td>\n",
       "      <td>A32</td>\n",
       "      <td>A42</td>\n",
       "      <td>7882</td>\n",
       "      <td>A61</td>\n",
       "      <td>A74</td>\n",
       "      <td>2</td>\n",
       "      <td>A93</td>\n",
       "      <td>A103</td>\n",
       "      <td>...</td>\n",
       "      <td>A122</td>\n",
       "      <td>45</td>\n",
       "      <td>A143</td>\n",
       "      <td>A153</td>\n",
       "      <td>1</td>\n",
       "      <td>A173</td>\n",
       "      <td>2</td>\n",
       "      <td>A191</td>\n",
       "      <td>A201</td>\n",
       "      <td>1</td>\n",
       "    </tr>\n",
       "    <tr>\n",
       "      <th>4</th>\n",
       "      <td>A11</td>\n",
       "      <td>24</td>\n",
       "      <td>A33</td>\n",
       "      <td>A40</td>\n",
       "      <td>4870</td>\n",
       "      <td>A61</td>\n",
       "      <td>A73</td>\n",
       "      <td>3</td>\n",
       "      <td>A93</td>\n",
       "      <td>A101</td>\n",
       "      <td>...</td>\n",
       "      <td>A124</td>\n",
       "      <td>53</td>\n",
       "      <td>A143</td>\n",
       "      <td>A153</td>\n",
       "      <td>2</td>\n",
       "      <td>A173</td>\n",
       "      <td>2</td>\n",
       "      <td>A191</td>\n",
       "      <td>A201</td>\n",
       "      <td>2</td>\n",
       "    </tr>\n",
       "  </tbody>\n",
       "</table>\n",
       "<p>5 rows × 21 columns</p>\n",
       "</div>"
      ],
      "text/plain": [
       "  Status of existing checking account  Duration in month Credit history  \\\n",
       "0                                 A11                  6            A34   \n",
       "1                                 A12                 48            A32   \n",
       "2                                 A14                 12            A34   \n",
       "3                                 A11                 42            A32   \n",
       "4                                 A11                 24            A33   \n",
       "\n",
       "  Purpose  Credit amount Savings account/bonds Present employment since  \\\n",
       "0     A43           1169                   A65                      A75   \n",
       "1     A43           5951                   A61                      A73   \n",
       "2     A46           2096                   A61                      A74   \n",
       "3     A42           7882                   A61                      A74   \n",
       "4     A40           4870                   A61                      A73   \n",
       "\n",
       "   Installment rate in percentage of disposable income  \\\n",
       "0                                                  4     \n",
       "1                                                  2     \n",
       "2                                                  2     \n",
       "3                                                  2     \n",
       "4                                                  3     \n",
       "\n",
       "  Personal status and sex Other debtors / guarantors  ...  Property  \\\n",
       "0                     A93                       A101  ...      A121   \n",
       "1                     A92                       A101  ...      A121   \n",
       "2                     A93                       A101  ...      A121   \n",
       "3                     A93                       A103  ...      A122   \n",
       "4                     A93                       A101  ...      A124   \n",
       "\n",
       "  Age in years  Other installment plans Housing  \\\n",
       "0           67                     A143    A152   \n",
       "1           22                     A143    A152   \n",
       "2           49                     A143    A152   \n",
       "3           45                     A143    A153   \n",
       "4           53                     A143    A153   \n",
       "\n",
       "  Number of existing credits at this bank   Job  \\\n",
       "0                                       2  A173   \n",
       "1                                       1  A173   \n",
       "2                                       1  A172   \n",
       "3                                       1  A173   \n",
       "4                                       2  A173   \n",
       "\n",
       "  Number of people being liable to provide maintenance for  Telephone  \\\n",
       "0                                                  1             A192   \n",
       "1                                                  1             A191   \n",
       "2                                                  2             A191   \n",
       "3                                                  2             A191   \n",
       "4                                                  2             A191   \n",
       "\n",
       "  Foreign worker Cost Matrix(Risk)  \n",
       "0           A201                 1  \n",
       "1           A201                 2  \n",
       "2           A201                 1  \n",
       "3           A201                 1  \n",
       "4           A201                 2  \n",
       "\n",
       "[5 rows x 21 columns]"
      ]
     },
     "execution_count": 5,
     "metadata": {},
     "output_type": "execute_result"
    }
   ],
   "source": [
    "df = pd.read_csv(FILE_PATH, sep=\" \", header=None)\n",
    "df.columns = HEADERS\n",
    "\n",
    "df.head()"
   ]
  },
  {
   "cell_type": "code",
   "execution_count": 6,
   "metadata": {},
   "outputs": [],
   "source": [
    "NUMERICAL_VARIABLES = ['Duration in month', 'Credit amount', 'Installment rate in percentage of disposable income',\n",
    "                     'Present residence since', 'Age in years', 'Number of existing credits at this bank', \n",
    "                     'Number of people being liable to provide maintenance for']\n",
    "                     \n",
    "CATEGORICAL_VARIABLES = ['Status of existing checking account', 'Credit history',\n",
    "                         'Purpose', 'Savings account/bonds', 'Present employment since',\n",
    "                         'Personal status and sex', 'Other debtors / guarantors',\n",
    "                         'Property', 'Other installment plans', 'Housing',\n",
    "                         'Job', 'Telephone', 'Foreign worker']"
   ]
  },
  {
   "cell_type": "code",
   "execution_count": 9,
   "metadata": {},
   "outputs": [],
   "source": [
    "features = df[NUMERICAL_VARIABLES + CATEGORICAL_VARIABLES]"
   ]
  },
  {
   "cell_type": "code",
   "execution_count": 10,
   "metadata": {},
   "outputs": [],
   "source": [
    "TARGET_VARIABLE = 'Cost Matrix(Risk)'\n",
    "\n",
    "target = df[TARGET_VARIABLE]"
   ]
  },
  {
   "cell_type": "code",
   "execution_count": 11,
   "metadata": {},
   "outputs": [],
   "source": [
    "TEST_SIZE = 0.1\n",
    "\n",
    "X_train, X_test, y_train, y_test = train_test_split(features, target, test_size=TEST_SIZE, \n",
    "                                                    random_state=SEED, shuffle=True, stratify=target.values)"
   ]
  },
  {
   "cell_type": "code",
   "execution_count": 12,
   "metadata": {},
   "outputs": [],
   "source": [
    "preprocessor = ColumnTransformer([\n",
    "    ('one-hot-encoder', OneHotEncoder(handle_unknown=\"ignore\"), CATEGORICAL_VARIABLES),\n",
    "    ('standard_scaler', StandardScaler(), NUMERICAL_VARIABLES)])\n",
    "\n",
    "_ = preprocessor.fit(X_train)"
   ]
  },
  {
   "cell_type": "code",
   "execution_count": 13,
   "metadata": {},
   "outputs": [],
   "source": [
    "X_train, X_test = preprocessor.transform(X_train), preprocessor.transform(X_test)"
   ]
  },
  {
   "cell_type": "code",
   "execution_count": 14,
   "metadata": {},
   "outputs": [],
   "source": [
    "label_encoder = LabelEncoder()\n",
    "label_encoder.fit(y_train)\n",
    "\n",
    "y_train = label_encoder.transform(y_train)\n",
    "y_test = label_encoder.transform(y_test)"
   ]
  },
  {
   "cell_type": "code",
   "execution_count": 16,
   "metadata": {},
   "outputs": [],
   "source": [
    "VALIDATION_SIZE = X_test.shape[0]\n",
    "\n",
    "X_train, X_val, y_train, y_val = train_test_split(X_train, y_train, \n",
    "                                                  test_size=VALIDATION_SIZE, stratify=y_train,\n",
    "                                                  shuffle=True, random_state=SEED)"
   ]
  },
  {
   "cell_type": "code",
   "execution_count": 17,
   "metadata": {},
   "outputs": [],
   "source": [
    "sm = SMOTE(sampling_strategy='auto', random_state=SEED)\n",
    "Xs, ys = sm.fit_resample(X_train, y_train)"
   ]
  },
  {
   "cell_type": "code",
   "execution_count": 18,
   "metadata": {},
   "outputs": [],
   "source": [
    "Xs_train, Xs_val, ys_train, ys_val = train_test_split(Xs, ys, test_size=VALIDATION_SIZE, \n",
    "                                                      random_state=SEED, shuffle=True, \n",
    "                                                      stratify=ys)"
   ]
  },
  {
   "cell_type": "markdown",
   "metadata": {},
   "source": [
    "##  Developing a model that does better than a baseline"
   ]
  },
  {
   "cell_type": "code",
   "execution_count": 19,
   "metadata": {},
   "outputs": [
    {
     "data": {
      "text/plain": [
       "Cost Matrix(Risk)\n",
       "1    700\n",
       "2    300\n",
       "Name: Cost Matrix(Risk), dtype: int64"
      ]
     },
     "execution_count": 19,
     "metadata": {},
     "output_type": "execute_result"
    }
   ],
   "source": [
    "counts = df.groupby([TARGET_VARIABLE])[TARGET_VARIABLE].count()\n",
    "\n",
    "counts"
   ]
  },
  {
   "cell_type": "code",
   "execution_count": 20,
   "metadata": {},
   "outputs": [
    {
     "data": {
      "text/plain": [
       "0.7"
      ]
     },
     "execution_count": 20,
     "metadata": {},
     "output_type": "execute_result"
    }
   ],
   "source": [
    "baseline = counts.iloc[0] / counts.sum()\n",
    "\n",
    "baseline"
   ]
  },
  {
   "cell_type": "code",
   "execution_count": 21,
   "metadata": {},
   "outputs": [
    {
     "data": {
      "text/plain": [
       "0.5"
      ]
     },
     "execution_count": 21,
     "metadata": {},
     "output_type": "execute_result"
    }
   ],
   "source": [
    "balanced_accuracy_score(y_train, np.zeros(len(y_train)))"
   ]
  },
  {
   "cell_type": "code",
   "execution_count": 22,
   "metadata": {},
   "outputs": [],
   "source": [
    "# MLP Model Instatiation\n",
    "def deep_neural_network(hidden_layers=0, hidden_neurons=np.nan, activation=None,\n",
    "                        dropout=np.nan, input_dimension=2, output_dimension=1,\n",
    "                        optimizer='rmsprop', loss='binary_crossentropy', metrics=['accuracy'],\n",
    "                        name=None) :\n",
    "    \n",
    "    model = Sequential()\n",
    "    for layer in range(hidden_layers) :\n",
    "        model.add(Dense(hidden_neurons, \n",
    "                  activation=activation, \n",
    "                  input_shape='default' if layer>1 else (input_dimension,)))\n",
    "        if ~np.isnan(dropout) :\n",
    "            model.add(Dropout(dropout))\n",
    "        \n",
    "    model.add(Dense(output_dimension, \n",
    "                    activation='sigmoid' if output_dimension==1 else 'softmax',\n",
    "                    input_shape='default' if hidden_layers>0 else (input_dimension,)))\n",
    "  \n",
    "    if name is not None :\n",
    "        model._name = name\n",
    "        \n",
    "    model.compile(optimizer=optimizer, loss=loss, metrics=metrics)\n",
    "    \n",
    "    return model"
   ]
  },
  {
   "cell_type": "code",
   "execution_count": 24,
   "metadata": {},
   "outputs": [],
   "source": [
    "# Fitting MLP Classification Model\n",
    "def train_deep_neural_network(model, X, y, \n",
    "                              batch_size=32, epochs=100, \n",
    "                              val_data=None, callbacks=[], seed=0) :\n",
    "    \n",
    "    if val_data is None :\n",
    "        X_train, X_val, y_train, y_val = train_test_split(X, y, test_size=0.2, \n",
    "                                                          random_state=seed, shuffle=True, \n",
    "                                                          stratify=y)\n",
    "        \n",
    "    else :\n",
    "        X_train, y_train, X_val, y_val = X, y, val_data[0], val_data[1]\n",
    "  \n",
    "\n",
    "    history = model.fit(X_train, y_train,\n",
    "                        batch_size=batch_size, epochs=epochs, \n",
    "                        validation_data=(X_val, y_val),\n",
    "                        callbacks=callbacks,\n",
    "                        verbose=0)\n",
    "\n",
    "    return {'model': model, \n",
    "            'val_score': model.evaluate(X_val, y_val, verbose=0)[1:], \n",
    "            'history': history }"
   ]
  },
  {
   "cell_type": "code",
   "execution_count": 57,
   "metadata": {},
   "outputs": [],
   "source": [
    "INPUT_DIMENSION = X_train.shape[1]\n",
    "OUTPUT_DIMENSION = 1\n",
    "\n",
    "OPTIMIZER = 'rmsprop'\n",
    "LOSS_FUNC = 'binary_crossentropy'\n",
    "METRICS = ['accuracy', \n",
    "           tf.keras.metrics.Precision(name='precision'), \n",
    "           tf.keras.metrics.Recall(name='recall'),\n",
    "           tf.keras.metrics.AUC(name='auc')]"
   ]
  },
  {
   "cell_type": "code",
   "execution_count": 81,
   "metadata": {},
   "outputs": [
    {
     "name": "stdout",
     "output_type": "stream",
     "text": [
      "Model: \"Single_Layer_Perceptron\"\n",
      "_________________________________________________________________\n",
      " Layer (type)                Output Shape              Param #   \n",
      "=================================================================\n",
      " dense_13 (Dense)            (None, 32)                1984      \n",
      "                                                                 \n",
      " dropout_4 (Dropout)         (None, 32)                0         \n",
      "                                                                 \n",
      " dense_14 (Dense)            (None, 1)                 33        \n",
      "                                                                 \n",
      "=================================================================\n",
      "Total params: 2,017\n",
      "Trainable params: 2,017\n",
      "Non-trainable params: 0\n",
      "_________________________________________________________________\n"
     ]
    }
   ],
   "source": [
    "slp_model = deep_neural_network(hidden_layers=1, hidden_neurons=32,\n",
    "                                activation='relu',\n",
    "                                dropout=0.2,\n",
    "                                input_dimension=INPUT_DIMENSION, output_dimension=OUTPUT_DIMENSION,\n",
    "                                optimizer=OPTIMIZER, loss=LOSS_FUNC, \n",
    "                                metrics=METRICS,\n",
    "                                name='Single_Layer_Perceptron')\n",
    "\n",
    "slp_model.summary()"
   ]
  },
  {
   "cell_type": "code",
   "execution_count": 82,
   "metadata": {},
   "outputs": [],
   "source": [
    "batch_size = 32\n",
    "EPOCHS = 100\n",
    "\n",
    "MONITOR = 'val_loss'\n",
    "PATIENCE = 5\n",
    "\n",
    "EARLY_STOP = EarlyStopping(monitor=MONITOR, restore_best_weights=True, patience=PATIENCE, verbose=0)"
   ]
  },
  {
   "cell_type": "code",
   "execution_count": 83,
   "metadata": {},
   "outputs": [],
   "source": [
    "trained_slp_model = train_deep_neural_network(slp_model, Xs_train, ys_train,\n",
    "                                              batch_size=batch_size, epochs=EPOCHS, \n",
    "                                              val_data=(Xs_val, ys_val), \n",
    "                                              callbacks=[EARLY_STOP], seed=SEED)"
   ]
  },
  {
   "cell_type": "code",
   "execution_count": 84,
   "metadata": {},
   "outputs": [
    {
     "name": "stdout",
     "output_type": "stream",
     "text": [
      "Accuracy (Balanced Validation): 0.79 (baseline=0.5)\n",
      "Precision (Balanced Validation): 0.80\n",
      "Recall (Balanced Validation): 0.78\n",
      "AUC (Balanced Validation): 0.89\n"
     ]
    }
   ],
   "source": [
    "print('Accuracy (Balanced Validation): {:.2f} (baseline=0.5)'.format(trained_slp_model['val_score'][0]))\n",
    "print('Precision (Balanced Validation): {:.2f}'.format(trained_slp_model['val_score'][1]))\n",
    "print('Recall (Balanced Validation): {:.2f}'.format(trained_slp_model['val_score'][2]))\n",
    "print('AUC (Balanced Validation): {:.2f}'.format(trained_slp_model['val_score'][3]))"
   ]
  },
  {
   "cell_type": "code",
   "execution_count": 85,
   "metadata": {},
   "outputs": [
    {
     "name": "stdout",
     "output_type": "stream",
     "text": [
      "Accuracy (Imbalanced Validation): 0.74 (baseline=0.7)\n",
      "Precision (Imbalanced Validation): 0.56\n",
      "Recall (Imbalanced Validation): 0.63\n",
      "AUC (Imbalanced Validation): 0.74\n"
     ]
    }
   ],
   "source": [
    "preds = trained_slp_model['model'].predict(X_val, verbose=0)\n",
    "\n",
    "print('Accuracy (Imbalanced Validation): {:.2f} (baseline=0.7)'.format(accuracy_score(y_val, (preds > 0.5).astype('int32'))))\n",
    "print('Precision (Imbalanced Validation): {:.2f}'.format(precision_score(y_val, (preds > 0.5).astype('int32'))))\n",
    "print('Recall (Imbalanced Validation): {:.2f}'.format(recall_score(y_val, (preds > 0.5).astype('int32'))))\n",
    "print('AUC (Imbalanced Validation): {:.2f}'.format(roc_auc_score(y_val, preds)))"
   ]
  },
  {
   "cell_type": "code",
   "execution_count": 86,
   "metadata": {},
   "outputs": [
    {
     "name": "stdout",
     "output_type": "stream",
     "text": [
      "Balanced Accuracy (Validation): 0.71 (baseline = 0.5)\n"
     ]
    }
   ],
   "source": [
    "print('Balanced Accuracy (Validation): {:.2f} (baseline = 0.5)'.format(balanced_accuracy_score(y_val, (preds > 0.5).astype('int32'))))"
   ]
  },
  {
   "cell_type": "code",
   "execution_count": 87,
   "metadata": {
    "id": "dNzQH9Srwt5R"
   },
   "outputs": [],
   "source": [
    "def plot_training_history(history, monitors=['loss', 'AUC']) :\n",
    "\n",
    "  # using the variable axs for multiple Axes\n",
    "  fig, axs = plt.subplots(1, 2, sharex='all', figsize=(15,5))\n",
    " \n",
    "  for ax, monitor in zip(axs.flat, monitors) :\n",
    "    loss, val_loss = history.history[monitor], history.history['val_' + monitor]\n",
    "\n",
    "    if monitor == 'loss' :\n",
    "      monitor = monitor.capitalize()\n",
    "\n",
    "    epochs = range(1, len(loss)+1)\n",
    "\n",
    "    ax.plot(epochs, loss, 'b.', label=monitor)\n",
    "    ax.plot(epochs, val_loss, 'r.', label='Validation ' + monitor)\n",
    "    ax.set_xlim([0, len(loss)])\n",
    "    ax.title.set_text('Training and Validation ' + monitor + 's')\n",
    "    ax.set_xlabel('Epochs')\n",
    "    ax.set_ylabel(monitor)\n",
    "    ax.legend()\n",
    "    ax.grid()\n",
    "\n",
    "  _ = plt.show()"
   ]
  },
  {
   "cell_type": "code",
   "execution_count": 88,
   "metadata": {
    "colab": {
     "base_uri": "https://localhost:8080/",
     "height": 350
    },
    "id": "xT6SBVGW0dEA",
    "outputId": "55f3b135-788f-4741-b1f9-5882bbada568"
   },
   "outputs": [
    {
     "data": {
      "image/png": "[encoded data removed]",
      "text/plain": [
       "<Figure size 1500x500 with 2 Axes>"
      ]
     },
     "metadata": {},
     "output_type": "display_data"
    }
   ],
   "source": [
    "plot_training_history(trained_slp_model['history'], monitors=['loss', 'auc'])"
   ]
  },
  {
   "cell_type": "markdown",
   "metadata": {},
   "source": [
    " ## Scaling up: developing a model that overfits"
   ]
  },
  {
   "cell_type": "code",
   "execution_count": 91,
   "metadata": {},
   "outputs": [
    {
     "name": "stdout",
     "output_type": "stream",
     "text": [
      "Model: \"Multi_Layer_Perceptron\"\n",
      "_________________________________________________________________\n",
      " Layer (type)                Output Shape              Param #   \n",
      "=================================================================\n",
      " dense_18 (Dense)            (None, 32)                1984      \n",
      "                                                                 \n",
      " dense_19 (Dense)            (None, 32)                1056      \n",
      "                                                                 \n",
      " dense_20 (Dense)            (None, 1)                 33        \n",
      "                                                                 \n",
      "=================================================================\n",
      "Total params: 3,073\n",
      "Trainable params: 3,073\n",
      "Non-trainable params: 0\n",
      "_________________________________________________________________\n"
     ]
    }
   ],
   "source": [
    "mlp_model = deep_neural_network(hidden_layers=2, hidden_neurons=32,\n",
    "                                activation='relu',\n",
    "                                input_dimension=INPUT_DIMENSION, output_dimension=OUTPUT_DIMENSION,\n",
    "                                optimizer=OPTIMIZER, loss=LOSS_FUNC, \n",
    "                                metrics=METRICS,\n",
    "                                name='Multi_Layer_Perceptron')\n",
    "\n",
    "mlp_model.summary()"
   ]
  },
  {
   "cell_type": "code",
   "execution_count": 92,
   "metadata": {},
   "outputs": [],
   "source": [
    "trained_mlp_model = train_deep_neural_network(mlp_model, Xs_train, ys_train,\n",
    "                                              batch_size=batch_size, epochs=EPOCHS, \n",
    "                                              val_data=(Xs_val, ys_val), \n",
    "                                              callbacks=[], seed=SEED)"
   ]
  },
  {
   "cell_type": "code",
   "execution_count": 93,
   "metadata": {},
   "outputs": [
    {
     "data": {
      "image/png": "[encoded data removed]",
      "text/plain": [
       "<Figure size 1500x500 with 2 Axes>"
      ]
     },
     "metadata": {},
     "output_type": "display_data"
    }
   ],
   "source": [
    "plot_training_history(trained_mlp_model['history'], monitors=['loss', 'auc'])"
   ]
  },
  {
   "cell_type": "code",
   "execution_count": 94,
   "metadata": {},
   "outputs": [
    {
     "name": "stdout",
     "output_type": "stream",
     "text": [
      "Accuracy (Validation): 0.84 (baseline=0.5)\n",
      "Precision (Validation): 0.81\n",
      "Recall (Validation): 0.88\n",
      "AUC (Validation): 0.90\n"
     ]
    }
   ],
   "source": [
    "print('Accuracy (Validation): {:.2f} (baseline=0.5)'.format(trained_mlp_model['val_score'][0]))\n",
    "print('Precision (Validation): {:.2f}'.format(trained_mlp_model['val_score'][1]))\n",
    "print('Recall (Validation): {:.2f}'.format(trained_mlp_model['val_score'][2]))\n",
    "print('AUC (Validation): {:.2f}'.format(trained_mlp_model['val_score'][3]))"
   ]
  },
  {
   "cell_type": "code",
   "execution_count": 95,
   "metadata": {},
   "outputs": [
    {
     "name": "stdout",
     "output_type": "stream",
     "text": [
      "Accuracy (Imbalanced Validation): 0.66 (baseline=0.7)\n",
      "Precision (Imbalanced Validation): 0.43\n",
      "Recall (Imbalanced Validation): 0.43\n",
      "AUC (Imbalanced Validation): 0.64\n",
      "Balanced Accuracy (Validation): 0.60 (baseline = 0.5)\n"
     ]
    }
   ],
   "source": [
    "preds = trained_mlp_model['model'].predict(X_val, verbose=0)\n",
    "\n",
    "print('Accuracy (Imbalanced Validation): {:.2f} (baseline=0.7)'.format(accuracy_score(y_val, (preds > 0.5).astype('int32'))))\n",
    "print('Precision (Imbalanced Validation): {:.2f}'.format(precision_score(y_val, (preds > 0.5).astype('int32'))))\n",
    "print('Recall (Imbalanced Validation): {:.2f}'.format(recall_score(y_val, (preds > 0.5).astype('int32'))))\n",
    "print('AUC (Imbalanced Validation): {:.2f}'.format(roc_auc_score(y_val, preds)))\n",
    "print('Balanced Accuracy (Validation): {:.2f} (baseline = 0.5)'.format(balanced_accuracy_score(y_val, (preds > 0.5).astype('int32'))))"
   ]
  },
  {
   "cell_type": "markdown",
   "metadata": {},
   "source": [
    " ## Regularizing your model and tuning your hyperparameters"
   ]
  },
  {
   "cell_type": "code",
   "execution_count": 97,
   "metadata": {},
   "outputs": [],
   "source": [
    "# Reformat Grid CV Stats to Dataframe\n",
    "def to_dataframe(stats, mapping) :\n",
    "    entries = []\n",
    "    for param, metrics in stats.items() :\n",
    "        entry = eval(param)\n",
    "        for key, value in metrics.items() :\n",
    "            entry[key] = value\n",
    "        \n",
    "        for key, value in mapping.items() :\n",
    "            entry[value] = entry['scores'][key]\n",
    "            \n",
    "        entry.pop('scores') \n",
    "        \n",
    "        entries.append( entry )\n",
    "\n",
    "    return pd.DataFrame(data=entries)"
   ]
  },
  {
   "cell_type": "code",
   "execution_count": 98,
   "metadata": {},
   "outputs": [],
   "source": [
    "# Grid Search CV\n",
    "def grid_search_cv(X, y,\n",
    "                   space, cv, \n",
    "                   optimizer, loss, metrics, \n",
    "                   epochs, callbacks=[], seed=0,\n",
    "                   addon_metrics={}, order={}) :\n",
    "    \n",
    "    keys, values = zip(*space.items())\n",
    "    \n",
    "    stats = {}\n",
    "    for params in [dict(zip(keys, v)) for v in itertools.product(*values)] :\n",
    "        kfold = StratifiedKFold(n_splits=cv, shuffle=True, random_state=seed)\n",
    "        \n",
    "        scores, stopped, losses = [], [], []\n",
    "        for train, validate in kfold.split(X, y) :\n",
    "            model = deep_neural_network(hidden_layers=params['hidden_layers'], \n",
    "                                        hidden_neurons=params['neurons'], \n",
    "                                        activation=params['activation'], \n",
    "                                        dropout=params['dropout'], \n",
    "                                        input_dimension=X.shape[1], \n",
    "                                        output_dimension=1 if len(y.shape)<2 else y.shape[1],\n",
    "                                        optimizer=optimizer, loss=loss, \n",
    "                                        metrics=metrics)\n",
    "      \n",
    "            trained = train_deep_neural_network(model, \n",
    "                                                X[train,:], y[train], \n",
    "                                                batch_size=params['batch_size'], epochs=epochs, \n",
    "                                                val_data=(X[validate,:], y[validate]), \n",
    "                                                callbacks=callbacks, seed=seed) \n",
    "            \n",
    "            evaluations = trained['model'].evaluate(X[validate,:], y[validate], verbose=0)[1:]\n",
    "            for key, value in addon_metrics.items() :\n",
    "                preds = (trained['model'].predict(X[validate,:], verbose=0) > 0.5).astype('int32')\n",
    "                evaluations.append( value(y[validate], preds) )\n",
    "                        \n",
    "            scores.append( evaluations )\n",
    "            stopped.append( len(trained['history'].history['val_loss']) )\n",
    "            losses.append( np.min(trained['history'].history['val_loss']) )\n",
    "        \n",
    "        stats[str(params)] = { 'scores': np.mean(scores, axis=0), \n",
    "                               'epochs': np.mean(stopped), \n",
    "                               'val_loss': np.mean(losses) }\n",
    "    \n",
    "    return to_dataframe(stats, order)"
   ]
  },
  {
   "cell_type": "code",
   "execution_count": 99,
   "metadata": {},
   "outputs": [],
   "source": [
    "addon_metrics = {}\n",
    "\n",
    "orders = {\n",
    "    0: 'accuracy',              \n",
    "    1: 'precision',\n",
    "    2: 'recall',\n",
    "    3: 'auc',\n",
    "}"
   ]
  },
  {
   "cell_type": "code",
   "execution_count": 100,
   "metadata": {},
   "outputs": [],
   "source": [
    "KFOLDS = 5"
   ]
  },
  {
   "cell_type": "code",
   "execution_count": 101,
   "metadata": {},
   "outputs": [],
   "source": [
    "params = {\n",
    "    'hidden_layers': [1, 2, 3, 4],\n",
    "    'neurons': [32],\n",
    "    'activation': ['relu'],\n",
    "    'dropout': [0.25, 0.5],\n",
    "    'batch_size': [32]\n",
    "}\n",
    "\n",
    "stats = grid_search_cv(X_train, y_train,  \n",
    "                       space=params, cv=KFOLDS, \n",
    "                       optimizer=OPTIMIZER, loss=LOSS_FUNC, metrics=METRICS, \n",
    "                       epochs=EPOCHS, callbacks=[EARLY_STOP], seed=SEED,\n",
    "                       addon_metrics=addon_metrics, order=orders)"
   ]
  },
  {
   "cell_type": "code",
   "execution_count": 102,
   "metadata": {},
   "outputs": [
    {
     "data": {
      "text/html": [
       "<div>\n",
       "<style scoped>\n",
       "    .dataframe tbody tr th:only-of-type {\n",
       "        vertical-align: middle;\n",
       "    }\n",
       "\n",
       "    .dataframe tbody tr th {\n",
       "        vertical-align: top;\n",
       "    }\n",
       "\n",
       "    .dataframe thead th {\n",
       "        text-align: right;\n",
       "    }\n",
       "</style>\n",
       "<table border=\"1\" class=\"dataframe\">\n",
       "  <thead>\n",
       "    <tr style=\"text-align: right;\">\n",
       "      <th></th>\n",
       "      <th>hidden_layers</th>\n",
       "      <th>neurons</th>\n",
       "      <th>activation</th>\n",
       "      <th>dropout</th>\n",
       "      <th>batch_size</th>\n",
       "      <th>epochs</th>\n",
       "      <th>val_loss</th>\n",
       "      <th>accuracy</th>\n",
       "      <th>precision</th>\n",
       "      <th>recall</th>\n",
       "      <th>auc</th>\n",
       "    </tr>\n",
       "  </thead>\n",
       "  <tbody>\n",
       "    <tr>\n",
       "      <th>0</th>\n",
       "      <td>1</td>\n",
       "      <td>32</td>\n",
       "      <td>relu</td>\n",
       "      <td>0.25</td>\n",
       "      <td>32</td>\n",
       "      <td>26.8</td>\n",
       "      <td>0.483460</td>\n",
       "      <td>0.76500</td>\n",
       "      <td>0.653338</td>\n",
       "      <td>0.462500</td>\n",
       "      <td>0.799498</td>\n",
       "    </tr>\n",
       "    <tr>\n",
       "      <th>1</th>\n",
       "      <td>1</td>\n",
       "      <td>32</td>\n",
       "      <td>relu</td>\n",
       "      <td>0.50</td>\n",
       "      <td>32</td>\n",
       "      <td>33.8</td>\n",
       "      <td>0.484398</td>\n",
       "      <td>0.76875</td>\n",
       "      <td>0.666140</td>\n",
       "      <td>0.475000</td>\n",
       "      <td>0.797526</td>\n",
       "    </tr>\n",
       "    <tr>\n",
       "      <th>6</th>\n",
       "      <td>4</td>\n",
       "      <td>32</td>\n",
       "      <td>relu</td>\n",
       "      <td>0.25</td>\n",
       "      <td>32</td>\n",
       "      <td>24.4</td>\n",
       "      <td>0.496813</td>\n",
       "      <td>0.76375</td>\n",
       "      <td>0.637578</td>\n",
       "      <td>0.491667</td>\n",
       "      <td>0.785956</td>\n",
       "    </tr>\n",
       "    <tr>\n",
       "      <th>4</th>\n",
       "      <td>3</td>\n",
       "      <td>32</td>\n",
       "      <td>relu</td>\n",
       "      <td>0.25</td>\n",
       "      <td>32</td>\n",
       "      <td>22.2</td>\n",
       "      <td>0.499456</td>\n",
       "      <td>0.75625</td>\n",
       "      <td>0.634049</td>\n",
       "      <td>0.441667</td>\n",
       "      <td>0.785603</td>\n",
       "    </tr>\n",
       "    <tr>\n",
       "      <th>7</th>\n",
       "      <td>4</td>\n",
       "      <td>32</td>\n",
       "      <td>relu</td>\n",
       "      <td>0.50</td>\n",
       "      <td>32</td>\n",
       "      <td>44.6</td>\n",
       "      <td>0.506431</td>\n",
       "      <td>0.72375</td>\n",
       "      <td>0.271848</td>\n",
       "      <td>0.150000</td>\n",
       "      <td>0.785361</td>\n",
       "    </tr>\n",
       "    <tr>\n",
       "      <th>3</th>\n",
       "      <td>2</td>\n",
       "      <td>32</td>\n",
       "      <td>relu</td>\n",
       "      <td>0.50</td>\n",
       "      <td>32</td>\n",
       "      <td>33.0</td>\n",
       "      <td>0.501190</td>\n",
       "      <td>0.75375</td>\n",
       "      <td>0.676083</td>\n",
       "      <td>0.350000</td>\n",
       "      <td>0.782831</td>\n",
       "    </tr>\n",
       "    <tr>\n",
       "      <th>2</th>\n",
       "      <td>2</td>\n",
       "      <td>32</td>\n",
       "      <td>relu</td>\n",
       "      <td>0.25</td>\n",
       "      <td>32</td>\n",
       "      <td>26.0</td>\n",
       "      <td>0.498951</td>\n",
       "      <td>0.76875</td>\n",
       "      <td>0.670892</td>\n",
       "      <td>0.466667</td>\n",
       "      <td>0.780859</td>\n",
       "    </tr>\n",
       "    <tr>\n",
       "      <th>5</th>\n",
       "      <td>3</td>\n",
       "      <td>32</td>\n",
       "      <td>relu</td>\n",
       "      <td>0.50</td>\n",
       "      <td>32</td>\n",
       "      <td>41.0</td>\n",
       "      <td>0.505943</td>\n",
       "      <td>0.76125</td>\n",
       "      <td>0.650563</td>\n",
       "      <td>0.454167</td>\n",
       "      <td>0.777623</td>\n",
       "    </tr>\n",
       "  </tbody>\n",
       "</table>\n",
       "</div>"
      ],
      "text/plain": [
       "   hidden_layers  neurons activation  dropout  batch_size  epochs  val_loss  \\\n",
       "0              1       32       relu     0.25          32    26.8  0.483460   \n",
       "1              1       32       relu     0.50          32    33.8  0.484398   \n",
       "6              4       32       relu     0.25          32    24.4  0.496813   \n",
       "4              3       32       relu     0.25          32    22.2  0.499456   \n",
       "7              4       32       relu     0.50          32    44.6  0.506431   \n",
       "3              2       32       relu     0.50          32    33.0  0.501190   \n",
       "2              2       32       relu     0.25          32    26.0  0.498951   \n",
       "5              3       32       relu     0.50          32    41.0  0.505943   \n",
       "\n",
       "   accuracy  precision    recall       auc  \n",
       "0   0.76500   0.653338  0.462500  0.799498  \n",
       "1   0.76875   0.666140  0.475000  0.797526  \n",
       "6   0.76375   0.637578  0.491667  0.785956  \n",
       "4   0.75625   0.634049  0.441667  0.785603  \n",
       "7   0.72375   0.271848  0.150000  0.785361  \n",
       "3   0.75375   0.676083  0.350000  0.782831  \n",
       "2   0.76875   0.670892  0.466667  0.780859  \n",
       "5   0.76125   0.650563  0.454167  0.777623  "
      ]
     },
     "execution_count": 102,
     "metadata": {},
     "output_type": "execute_result"
    }
   ],
   "source": [
    "stats.sort_values(by=['auc'], ascending=False)"
   ]
  },
  {
   "cell_type": "code",
   "execution_count": 111,
   "metadata": {},
   "outputs": [
    {
     "name": "stdout",
     "output_type": "stream",
     "text": [
      "Model: \"Deep_Network\"\n",
      "_________________________________________________________________\n",
      " Layer (type)                Output Shape              Param #   \n",
      "=================================================================\n",
      " dense_163 (Dense)           (None, 32)                1984      \n",
      "                                                                 \n",
      " dropout_106 (Dropout)       (None, 32)                0         \n",
      "                                                                 \n",
      " dense_164 (Dense)           (None, 1)                 33        \n",
      "                                                                 \n",
      "=================================================================\n",
      "Total params: 2,017\n",
      "Trainable params: 2,017\n",
      "Non-trainable params: 0\n",
      "_________________________________________________________________\n"
     ]
    }
   ],
   "source": [
    "opt_model = deep_neural_network(hidden_layers=1, hidden_neurons=32,\n",
    "                                dropout=0.5, activation='relu',\n",
    "                                input_dimension=INPUT_DIMENSION, output_dimension=OUTPUT_DIMENSION,\n",
    "                                optimizer=OPTIMIZER, loss=LOSS_FUNC, \n",
    "                                metrics=METRICS,\n",
    "                                name='Deep_Network')\n",
    "\n",
    "opt_model.summary()"
   ]
  },
  {
   "cell_type": "code",
   "execution_count": 112,
   "metadata": {},
   "outputs": [],
   "source": [
    "trained_opt_model = train_deep_neural_network(opt_model, Xs_train, ys_train,\n",
    "                                              batch_size=batch_size, epochs=EPOCHS, \n",
    "                                              val_data=(Xs_val, ys_val), \n",
    "                                              callbacks=[EARLY_STOP], seed=SEED)"
   ]
  },
  {
   "cell_type": "code",
   "execution_count": 113,
   "metadata": {},
   "outputs": [
    {
     "data": {
      "image/png": "[encoded data removed]",
      "text/plain": [
       "<Figure size 1500x500 with 2 Axes>"
      ]
     },
     "metadata": {},
     "output_type": "display_data"
    }
   ],
   "source": [
    "plot_training_history(trained_opt_model['history'], monitors=['loss', 'auc'])"
   ]
  },
  {
   "cell_type": "code",
   "execution_count": 114,
   "metadata": {},
   "outputs": [
    {
     "name": "stdout",
     "output_type": "stream",
     "text": [
      "Accuracy (Validation): 0.80 (baseline=0.5)\n",
      "Precision (Validation): 0.81\n",
      "Recall (Validation): 0.78\n",
      "AUC (Validation): 0.89\n"
     ]
    }
   ],
   "source": [
    "print('Accuracy (Validation): {:.2f} (baseline=0.5)'.format(trained_opt_model['val_score'][0]))\n",
    "print('Precision (Validation): {:.2f}'.format(trained_opt_model['val_score'][1]))\n",
    "print('Recall (Validation): {:.2f}'.format(trained_opt_model['val_score'][2]))\n",
    "print('AUC (Validation): {:.2f}'.format(trained_opt_model['val_score'][3]))"
   ]
  },
  {
   "cell_type": "code",
   "execution_count": 115,
   "metadata": {},
   "outputs": [
    {
     "name": "stdout",
     "output_type": "stream",
     "text": [
      "Accuracy (Imbalanced Validation): 0.72 (baseline=0.7)\n",
      "Precision (Imbalanced Validation): 0.53\n",
      "Recall (Imbalanced Validation): 0.57\n",
      "AUC (Imbalanced Validation): 0.71\n",
      "Balanced Accuracy (Validation): 0.68 (baseline = 0.5)\n"
     ]
    }
   ],
   "source": [
    "preds = trained_opt_model['model'].predict(X_val, verbose=0)\n",
    "\n",
    "print('Accuracy (Imbalanced Validation): {:.2f} (baseline=0.7)'.format(accuracy_score(y_val, (preds > 0.5).astype('int32'))))\n",
    "print('Precision (Imbalanced Validation): {:.2f}'.format(precision_score(y_val, (preds > 0.5).astype('int32'))))\n",
    "print('Recall (Imbalanced Validation): {:.2f}'.format(recall_score(y_val, (preds > 0.5).astype('int32'))))\n",
    "print('AUC (Imbalanced Validation): {:.2f}'.format(roc_auc_score(y_val, preds)))\n",
    "print('Balanced Accuracy (Validation): {:.2f} (baseline = 0.5)'.format(balanced_accuracy_score(y_val, (preds > 0.5).astype('int32'))))"
   ]
  },
  {
   "cell_type": "code",
   "execution_count": 116,
   "metadata": {},
   "outputs": [
    {
     "name": "stdout",
     "output_type": "stream",
     "text": [
      "Accuracy (Test): 0.72 (baseline=0.7)\n",
      "Precision (Test): 0.53\n",
      "Recall (Test): 0.60\n",
      "AUC (Test): 0.79\n"
     ]
    }
   ],
   "source": [
    "preds = trained_opt_model['model'].predict(X_test, verbose=0)\n",
    "\n",
    "print('Accuracy (Test): {:.2f} (baseline=0.7)'.format(accuracy_score(y_test, (preds > 0.5).astype('int32'))))\n",
    "print('Precision (Test): {:.2f}'.format(precision_score(y_test, (preds > 0.5).astype('int32'))))\n",
    "print('Recall (Test): {:.2f}'.format(recall_score(y_test, (preds > 0.5).astype('int32'))))\n",
    "print('AUC (Test): {:.2f}'.format(roc_auc_score(y_test, preds)))"
   ]
  },
  {
   "cell_type": "code",
   "execution_count": 117,
   "metadata": {},
   "outputs": [
    {
     "name": "stdout",
     "output_type": "stream",
     "text": [
      "Balanced Accuracy (Test): 0.69 (baseline = 0.5)\n"
     ]
    }
   ],
   "source": [
    "print('Balanced Accuracy (Test): {:.2f} (baseline = 0.5)'.format(balanced_accuracy_score(y_test, \n",
    "                                                                                         (preds > 0.5).astype('int32'))))"
   ]
  },
  {
   "cell_type": "code",
   "execution_count": 118,
   "metadata": {},
   "outputs": [
    {
     "data": {
      "image/png": "[encoded data removed]",
      "text/plain": [
       "<Figure size 640x480 with 2 Axes>"
      ]
     },
     "metadata": {},
     "output_type": "display_data"
    }
   ],
   "source": [
    "disp = ConfusionMatrixDisplay( confusion_matrix(y_test, (preds > 0.5).astype('int32')))\n",
    "_ = disp.plot()"
   ]
  },
  {
   "cell_type": "code",
   "execution_count": null,
   "metadata": {},
   "outputs": [],
   "source": []
  }
 ],
 "metadata": {
  "accelerator": "GPU",
  "colab": {
   "provenance": []
  },
  "gpuClass": "standard",
  "kernelspec": {
   "display_name": "Python 3 (ipykernel)",
   "language": "python",
   "name": "python3"
  },
  "language_info": {
   "codemirror_mode": {
    "name": "ipython",
    "version": 3
   },
   "file_extension": ".py",
   "mimetype": "text/x-python",
   "name": "python",
   "nbconvert_exporter": "python",
   "pygments_lexer": "ipython3",
   "version": "3.9.13"
  }
 },
 "nbformat": 4,
 "nbformat_minor": 1
}
